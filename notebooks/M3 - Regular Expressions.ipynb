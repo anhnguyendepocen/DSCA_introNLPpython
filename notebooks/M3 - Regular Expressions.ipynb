{
 "cells": [
  {
   "cell_type": "markdown",
   "metadata": {},
   "source": [
    "# Module 3: Regular Expressions\n",
    "<br>\n"
   ]
  },
  {
   "cell_type": "markdown",
   "metadata": {},
   "source": [
    "## Table of Contents\n",
    "<br>\n",
    "\n",
    "## Module 3: Regular Expressions\n",
    "<ol>\n",
    "  <li>What are regular expressions for??</li>\n",
    "  <li>Case Study</li>\n",
    "  <li>Matching Letters</li>\n",
    "  <li>Matching Multiple Characters</li>\n",
    "  <li>The \"any\" Character</li>\n",
    "  <li>Escaping Special Characters</li>\n",
    "  <li>Grouping Expressions</li>\n",
    "  <li>Starting and Ending Strings</li>\n",
    "  <li>Programming with REGEX</li>\n",
    "  <li>Special Character Glossary</li>\n",
    "\n",
    "</ol>\n",
    "\n",
    "**Learning Outcomes:** \n",
    "By the end of the module you will:\n",
    "* Be able to understand when regular expressions are useful \n",
    "\n",
    "* Be able to write expressions that use:\n",
    "    + Characters\n",
    "    + Multiple characters\n",
    "    + Unknown characters\n",
    "    + Special character\n",
    "    + Groups of expressions\n",
    "    + Starting and ending characters\n",
    " \n",
    " \n",
    "*  Be able to write expressions using combinations of the above.\n",
    "<br>\n",
    "\n",
    "Additionally you should be able to:\n",
    "\n",
    "* Use regular expressions in python with the `re` and `pandas` libraries.\n",
    "\n",
    "<br>\n"
   ]
  },
  {
   "cell_type": "markdown",
   "metadata": {},
   "source": [
    "\n",
    "\n",
    "\n",
    "## About this module\n",
    "\n",
    "This module will introduce basic concepts in regular expressions through using a case study. The regular expression theory in this course is largely language agnostic, in that all major programming language implement them in a similar manner. \n",
    "\n",
    "The beginning of the course will be conducted using a website tool, [regex101.com](https://regex101.com/) that helps us easily test expressions. Later on we will look at how to use regular expressions in python and with data sets in `pandas`.\n",
    "\n",
    "\n",
    "## What are they for?\n",
    "\n",
    "Regular expressions are a useful tool when we have text data. \n",
    "\n",
    "Often when using text data we want to find out if the text meets some criteria. \n",
    "\n",
    "Some example things we might want to check the text data for:\n",
    "\n",
    "* if it starts with the letter \"B\"\n",
    "* if the all the letters in it are capitalised\n",
    "* if the text ends in a question mark \"?\"\n",
    "* whether the text contains a specific keyword, like a name or location\n",
    "\n",
    "These checks can mostly be done using our programming knowledge about strings and looping through the data. To check for the starting letting in a text we can check the first element, we can loop over all text and check if each letter is capitalised, and so on. \n",
    "\n",
    "However, there are more complicated checks we may need to make on our text data. These are going to be harder to do by indexing and looping though the data.\n",
    "\n",
    "Some harder tasks to achieve are checking:\n",
    "* whether the text is a valid email\n",
    "* if a password meets some security requirement\n",
    "* whether an phone number follows a valid format\n",
    "* if a mistake has been made when inputting some data manually\n",
    "\n",
    "Using this password security example if we had four security requirements: must contain at least one uppercase and lowercase letter, must have at least one digit and must be longer than 8 characters. \n",
    "\n",
    "<img src=\"../pics/password.jpg\" alt=\"Password checker\"\n",
    "\ttitle=\"Password verification\" width=\"400\" height=\"200\" />\n",
    "\n",
    "\n",
    "To check a given password for this criteria we would need to program a very specific solution such as:\n",
    "* loop over every element and check whether each is uppercase or lowercase, passes if at least one element is of each\n",
    "* loop through the text and check if each element is a digit, if at least one is pass the criteria\n",
    "* count the number of elements in the string, if the length is greater than 8 pass the criteria\n",
    "\n",
    "From this it's clear that there is going to be some iteration and potentially a lot of conditions in the program to get it to work for our requirements\n",
    "\n",
    "Regular expressions allow us to tackle the second group of examples and similar problems more easily than using a typical string programming approach. They are used widely to search and replace parts of text data.\n",
    "\n",
    "A regular expression lets us design a pattern for our specific problem. This pattern will describe what we need from the text data without needing to loop through the string ourselves, or add complex conditional statements (`if/else` statements). \n",
    "\n",
    "The above password problem can be fully described by the following regular expression:\n",
    "\n",
    "`\"^(?=.*\\d)(?=.*[a-z])(?=.*[A-Z])(?=.*[a-zA-Z]).{8,}$\"`\n",
    "\n",
    "**Note** you do not need to understand the above yet.\n",
    "\n",
    "The above text may be quite intimidating, but what they can do is extremely powerful. Regular expressions are a language themselves, but we are going to start small and the build up to more complicated expressions like the above.\n",
    "\n",
    "Below is an example of the same regular expression broken into groups, each showing what we want to match from our criteria.\n",
    "\n",
    "<img src=\"../pics/annotatedregex.png\" alt=\"password regex\"\n",
    "\ttitle=\"passwordregex\" width=\"800\" height=\"400\" />"
   ]
  },
  {
   "cell_type": "markdown",
   "metadata": {},
   "source": [
    "## Set up regex101\n",
    "\n",
    "It is encouraged to get a feel for [regex101.com](https://regex101.com/) yourself as it is a very handy tool for quickly testing the expressions you have designed. Throughout the course you will be instructed to In this section we will briefly go through the relevant areas of the site.\n",
    "\n",
    "One of the added benefits of regex101 is that it will also give you an explanation of what your regular expression does in words.\n",
    "\n",
    "Open up [regex101.com](https://regex101.com/)\n",
    "\n",
    "<img src=\"../pics/regex101wide.png\" alt=\"view of regex101\"\n",
    "\ttitle=\"regex101\" width=\"800\" height=\"400\" />\n",
    "    \n",
    "The page will look something like the above.\n",
    "\n",
    "Change the flavour of your regular expressions to **Python**. The below image shows the main areas of the site we will be using.\n",
    "\n",
    "<img src=\"../pics/regex101annotated.png\" alt=\"view of regex101 annotated\"\n",
    "\ttitle=\"regex101 annotated\" width=\"800\" height=\"400\" />"
   ]
  },
  {
   "cell_type": "markdown",
   "metadata": {
    "collapsed": true
   },
   "source": [
    "# The Case Study\n",
    "\n",
    "Throughout this module we are going to work through a specific problem, introducing regular expression (regex) concepts as we go. The first few concepts we are going to test using the regex101.com website, after that we will bring them all together in python.\n",
    "\n",
    "## The Task\n",
    "\n",
    "Your team is running a large conference which is only available to current civil servants. Your team has decided that it is going to check that individuals are eligible for the event by checking their registered email.\n",
    "\n",
    "Broadly there are two things which you will need to check:\n",
    "* That the person enrolled has a validly formatted email\n",
    "* That the email has a government domain.\n",
    "\n",
    "Specifically, you need to check for each email:\n",
    "* the email follows \"firstname\" \".\" \"lastname\" convention in the username, such as \"Jenny.Smith@ons.gov.uk\". Each name should just be letters. \n",
    "* there is a \"@\" character between the username and  email domain\n",
    "* the email ends in \".gov.uk\"\n",
    "* the domain contains a department name (it doesn't need to be a real department) before the \".gov.uk\", which is all letters.\n",
    "\n",
    "You have been given the addition information:\n",
    "* all letters in the emails can be upper or lowercase\n",
    "* the text will not contain any spaces\n",
    "\n",
    "## Your role\n",
    "\n",
    "While you could try and check all the email addresses by hand, or by writing a program with lots of conditional statements, you have decided to tackle this problem with regular expressions. \n",
    "\n",
    "You have been told that the best approach to building regular expressions is to tackle each criteria of the pattern, a sub-pattern, then combine them. At each step you're going to check the sub pattern against some realistic partial test text. \n",
    "\n",
    "Once the expression is all brought together there is a file containing test emails that can be used to validate whether your expression gets the matching right.\n",
    "\n"
   ]
  },
  {
   "cell_type": "markdown",
   "metadata": {},
   "source": [
    "## Matching Letters\n",
    "\n",
    "The first part of the problem we are going to tackle is to check that the first name in the email contains just letters.\n",
    "\n",
    "To do this we need two things:\n",
    "* To be able to match when something is a letter\n",
    "* To match multiple letters\n"
   ]
  },
  {
   "cell_type": "markdown",
   "metadata": {},
   "source": [
    "### Match a letter\n",
    "\n",
    "We can create a \"set\" of values we want to match by using square brackets `[]` and putting the elements we want to match inside.\n",
    "\n",
    "For example, if I wanted to match the letters \"a\", \"b\" or \"c\" I could create the set `[abc]`. This will check an individual element in a string, and see if that element is a member of the set. \n",
    "\n",
    "The set `[abc]` when applied to each element in \"abracadabra\" would give the following matches.\n",
    "\n",
    "![abracadabra matching](../pics/abracadabra.png)\n",
    "\n",
    "We can create a more general set by indicating a range of values we want. For example we can:\n",
    "\n",
    "* match the set of all lowercase letters: `[a-z]`\n",
    "* match the set of all uppercase letters: `[A-Z]`\n",
    "* match the set of all digits: `[0-9]`\n",
    "\n",
    "More strings can be included in the set to widen what it will match. For example if we want to match all lowercase letters **AND** spaces, we could write `[a-z ]`, notice the space now inside the set.\n",
    "\n",
    "\n"
   ]
  },
  {
   "cell_type": "markdown",
   "metadata": {},
   "source": [
    "### Exercise 1\n",
    "\n",
    "In regex101.com, in the string test section write your full name in the form\n",
    "> Jenny Smith\n",
    "\n",
    "Within the regex section, write a regex set such that all characters are matched in your name, including spaces."
   ]
  },
  {
   "cell_type": "code",
   "execution_count": null,
   "metadata": {
    "collapsed": true
   },
   "outputs": [],
   "source": [
    "# Import the appropriate function to view images in the exercise answers\n",
    "from IPython.display import Image "
   ]
  },
  {
   "cell_type": "code",
   "execution_count": null,
   "metadata": {
    "collapsed": true
   },
   "outputs": [],
   "source": [
    "# To see the answer run this cell once, to see the image run it again\n",
    "%load ../exercise_answers/exercise1.py"
   ]
  },
  {
   "cell_type": "markdown",
   "metadata": {},
   "source": [
    "If, instead of matching one specific letter or character, we wanted to match an exact string of characters, we can specify that as our regular expression instead. For example we can write:\n",
    "> \"hi\"\n",
    "\n",
    "If we want to match those exact strings in that order.\n",
    "We can even combine the specific strings with sets so that we can match a range of words. \n",
    "\n",
    "> \"hi[tp]\" - will match both \"hit\" and \"hip\"\n"
   ]
  },
  {
   "cell_type": "markdown",
   "metadata": {},
   "source": [
    "### Exercise 2\n",
    "\n",
    "In regex101.com, in the string test section write the following words\n",
    "* help\n",
    "* hell\n",
    "* held\n",
    "\n",
    "Within the regex section, write a regex which matches **help** and **held** but not **hell**."
   ]
  },
  {
   "cell_type": "code",
   "execution_count": null,
   "metadata": {
    "collapsed": true
   },
   "outputs": [],
   "source": [
    "# To see the answer run this cell once, to see the image run it again\n",
    "%load ../exercise_answers/exercise2.py"
   ]
  },
  {
   "cell_type": "markdown",
   "metadata": {},
   "source": [
    "### Match multiple letters\n",
    "\n",
    "We have so far matched only individual letters, or a specified string of characters. In order to be able to match a first name from our emails we are going to need to specify how many letters there could be.\n",
    "\n",
    "To change the number of occurrences of a character in our expression we add a \"special character\" after the character we want occuring. \n",
    "\n",
    "A special character is a character which has a particular meaning other than itself. \n",
    "\n",
    "There are three special characters we will look at that can modify the number of occurrences of a character, these are:\n",
    "\n",
    "* \"+\" - preceding character appears once or more times\n",
    "* \"*\" - preceding character appears 0 or more times\n",
    "* \"?\" - preceding character appears 0 or 1 times\n",
    "* \"{n}\" - preceeding character appears `n` times\n",
    "* \"{n,}\" - preceeding character appears `n` or more times\n",
    "* \"{n,m}\" - preceeding character appears `n` or more times, but no more tham `m` times\n",
    "\n",
    "These specific \"special characters\" are called \"Quantifiers\" as they determine how many times a string occurs.\n",
    "\n",
    "![Quantifier table](../pics/quantifiers.png)\n",
    "\n",
    "\n",
    "By using these in combination with the characters we want we can fit the right pattern to our needs.\n",
    "\n",
    "If we definitely know we want a character to be present, we will use the \"+\" special character.\n",
    "\n",
    "For example, if I want to match the letter \"a\" followed by at least one \"h\", I would use the regex `\"ah+\"`.\n",
    "\n",
    "Try out `\"ah+\"` in regex101.com using the below test strings:\n",
    "\n",
    "* ah\n",
    "* ahhhh\n",
    "* ahhhhhhh\n",
    "* a\n",
    "* h\n",
    "* ahhhhha\n",
    "\n",
    "The strings will only match the whole first 3 strings. The last case is partially matched, but note that it doesn't pick up on the final \"a\". \n",
    "\n",
    "\n",
    "If we know that a specific character may or may not appear, we often use the \"?\" character. This is similar to saying \"the preceding character might be there, and either way we want to match it\". \n",
    "\n",
    "**Be careful** when using occurance that could be present zero times, it may not pick up what you want!\n",
    "\n",
    "**Note:** These characters are \"greedy\" - they will match the maximum numbers of characters that they can.\n",
    "\n",
    "Write the following regex into regex101.com and add the below test strings `c?at`\n",
    "* cat\n",
    "* bat\n",
    "* chat\n",
    "* at\n",
    "\n",
    "Add in some more words ending in \"at\" and see which match fully. In the above examples only \"cat\" and \"at\" match because due to the \"?\" character the \"c\" may or may not be present for a match to happen.\n",
    "\n",
    "The last special character in this area is \"*\". This denotes that the preceding character occurs either one or many times. For this reason it is often said to denote \"occurs any amount of times\". It is like a combination of the two previous characters.\n",
    "\n",
    "Write the following regex into regex101.com and add the below test strings `t*he`\n",
    "* he\n",
    "* the\n",
    "* tttttttttttthe\n",
    "\n",
    "As you can see the regex will fully match all three of these examples, it is very tolerant in that it will take any number of occurrences. Use it only if you're sure your task can accept having 0 occurrences of some character.\n"
   ]
  },
  {
   "cell_type": "markdown",
   "metadata": {},
   "source": [
    "### Exercise 3\n",
    "\n",
    "In regex101.com write a regular expression that matches:\n",
    "* Hello\n",
    "* Helloooo\n",
    "* Hllo\n",
    "\n",
    "But not:\n",
    "* Heeeelloo\n",
    "* Hell\n",
    "    "
   ]
  },
  {
   "cell_type": "code",
   "execution_count": null,
   "metadata": {
    "collapsed": true
   },
   "outputs": [],
   "source": [
    "# To see the answer run this cell once, to see the image run it again\n",
    "%load ../exercise_answers/exercise3.py"
   ]
  },
  {
   "cell_type": "markdown",
   "metadata": {},
   "source": [
    "## Back to emails\n",
    "\n",
    "We are now equipped to start thinking about our case study. We can now match multiple occurrences of a set of characters. If we look back at our criteria:\n",
    "\n",
    "* the email follows \"firstname\" \".\" \"lastname\" convention in the username, such as \"Jenny.Smith@ons.gov.uk\". Each name should just be letters.\n",
    "* there is a \"@\" character between the username and email domain\n",
    "* the email ends in \".gov.uk\"\n",
    "* the domain contains a department name (it doesn't need to be a real department) before the \".gov.uk\", which is all letters.\n",
    "\n",
    "We can start piecing together parts of our final regular expression.\n",
    "\n",
    "To match the firstname, lastname and government department we are actually going to use the same sub expression. \n",
    "\n",
    "What we need is to match a string of letters (one or more letter), that is possibly a mix of uppercase and lowercase.\n",
    "\n"
   ]
  },
  {
   "cell_type": "markdown",
   "metadata": {},
   "source": [
    "### Exercise 4\n",
    "\n",
    "In regex101 write an expression that matches fully single word names, or department names / abbreviations. \n",
    "\n",
    "The below test strings should be matches.\n",
    "\n",
    "* Jenny\n",
    "* jenkins\n",
    "* HaRold\n",
    "* F\n",
    "* DCMS\n",
    "* ons\n",
    "\n",
    "\n",
    "These strings should not be matched fully.\n",
    "\n",
    "* Jon smith\n",
    "* !EMPTY STRING!\n",
    "* sasha123\n",
    "* caroline.davies"
   ]
  },
  {
   "cell_type": "code",
   "execution_count": null,
   "metadata": {
    "collapsed": true
   },
   "outputs": [],
   "source": [
    "# To see the answer run this cell once, to see the image run it again\n",
    "%load ../exercise_answers/exercise4.py"
   ]
  },
  {
   "cell_type": "markdown",
   "metadata": {
    "collapsed": true
   },
   "source": [
    "### Any Character\n",
    "\n",
    "So far we have looked at sets, strings and multiple occurrences. These are useful, but we need to have information about the what that character will be.\n",
    "\n",
    "To overcome this there is a special character which will match \"anything\", no matter what character is present. \n",
    "\n",
    "This can be a really useful addition to our tool belt as it allows us the add in a generic placeholders where we don't know what our string will look like.\n",
    "\n",
    "In regex101 write the following regex and test text, `[.*]`\n",
    "\n",
    "\"This CAN hav3 an%thing\"\n",
    "\n",
    "As you can see, this matches the whole string fully, and it will match anything we throw at it, even if we give it an empty string. Test this by adding more text strings with different punctuation and characters. "
   ]
  },
  {
   "cell_type": "markdown",
   "metadata": {},
   "source": [
    "### Exercise 5\n",
    "\n",
    "In regex101 write an expression that matches all text which starts with \"AB_\", followed by at least one character. Test it on the strings below.\n",
    "\n",
    "These should fully match:\n",
    "* AB_123\n",
    "* AB_!!!\n",
    "* AB_\n",
    "* AB_check\n",
    "* AB_AB_\n",
    "\n",
    "These should not\n",
    "* ab_\n",
    "* AB"
   ]
  },
  {
   "cell_type": "code",
   "execution_count": null,
   "metadata": {
    "collapsed": true
   },
   "outputs": [],
   "source": [
    "# To see the answer run this cell once, to see the image run it again\n",
    "%load ../exercise_answers/exercise5.py"
   ]
  },
  {
   "cell_type": "markdown",
   "metadata": {},
   "source": [
    "### Escaping special characters\n",
    "\n",
    "Introducing these special characters gives us more flexibility, but what happens if we want to match one of the special characters? For example, what if we want our expression to match a \"+\" symbol itself, not it's special character meaning?\n",
    "\n",
    "To do this we \"escape\" the special character by adding in a new special character: \"\\\". By putting this before the character we want to escape.\n",
    "\n",
    "For example, to escape \"+\" we would write \"\\+\". Or to escape \"*\" we would write \"\\*\". If we even wanted to escape \"\\\" we can use \"\\\\\"."
   ]
  },
  {
   "cell_type": "markdown",
   "metadata": {},
   "source": [
    "### Exercise 6\n",
    "\n",
    "Write a regular expression in regex101 to fully match a string ending with a question mark.\n",
    "\n",
    "The following should match:\n",
    "* Are you there?\n",
    "* What am I?\n",
    "* How are you?\n",
    "\n",
    "The following should not match:\n",
    "* Are you okay!\n",
    "* What's going on"
   ]
  },
  {
   "cell_type": "code",
   "execution_count": null,
   "metadata": {
    "collapsed": true
   },
   "outputs": [],
   "source": [
    "# To see the answer run this cell once, to see the image run it again\n",
    "%load ../exercise_answers/exercise6.py"
   ]
  },
  {
   "cell_type": "markdown",
   "metadata": {},
   "source": [
    "### Grouping Expressions\n",
    "\n",
    "We have been writing sub-expressions so far that can be combined. It is often useful to contain our sub-expressions in groups by using the special character brackets `()`. This is done particularly when the sub-expression becomes complicated.\n",
    "\n",
    "Each sub-expression gets put within a pair of brackets.\n",
    "\n",
    "`(first_expression)(second_expression)`"
   ]
  },
  {
   "cell_type": "markdown",
   "metadata": {},
   "source": [
    "### Exercise 7\n",
    "\n",
    "We are now able to combine sub-expressions using brackets, as well as escaping special characters. This means we can add some of our expressions together to help match our email formatting.\n",
    "\n",
    "Using the `[a-zA-Z]+` sub-expression, write a regular expression that matches the format `firstname.lastname`.\n",
    "\n",
    "It should match the following:\n",
    "* Fred.woolnough\n",
    "* Jane.Leslie\n",
    "* maureen.godson\n",
    "\n",
    "But not fully match the strings below:\n",
    "* jack,wigley\n",
    "* henrywelsh\n",
    "* sarah-riley\n",
    "* charlie.alexander123"
   ]
  },
  {
   "cell_type": "code",
   "execution_count": null,
   "metadata": {
    "collapsed": true
   },
   "outputs": [],
   "source": [
    "# To see the answer run this cell once, to see the image run it again\n",
    "%load ../exercise_answers/exercise7.py"
   ]
  },
  {
   "cell_type": "markdown",
   "metadata": {},
   "source": [
    "## Starting and Ending Strings\n",
    "\n",
    "As you can see in the previous exercise, at the moment we can still have parts of strings that do not match returning a partial match.\n",
    "\n",
    "For example in `charlie.alexander`**123**, the \"123\" part goes unmatched. This could lead to unintended consequences, such as creating matches that contain extra leading or trailing strings.\n",
    "\n",
    "This is counteracted by using two more special characters.\n",
    "\n",
    "`^` proceeds a character/expression marking the start of a string.\n",
    "\n",
    "`$` follows a character to mark that it ends the string.\n",
    "\n",
    "For example, if we wanted an expression that matched anything as long as it starts with a capital letter and ends with a question mark, filled with anything in-between.\n",
    "\n",
    "To match the strings starting with a capital letter use `\"^[A-Z]\"`\n",
    "\n",
    "To match the strings ending in a question mark use `\"\\?$\"`.\n",
    "\n",
    "To match anything in between use `\".*\"`.\n",
    "\n",
    "All together this becomes:\n",
    "\n",
    "`\"^([A-Z])(.*)(\\?$)\"`\n",
    "\n",
    "Copy the expression into regex101 and try it out with your own question strings.\n",
    "\n",
    "The result will look something like this:\n",
    "\n",
    "<img src=\"../pics/example_question.png\" alt=\"question result regex\"\n",
    "\ttitle=\"question\" width=\"300\" height=\"400\" />"
   ]
  },
  {
   "cell_type": "markdown",
   "metadata": {},
   "source": [
    "### Exercise 8\n",
    "\n",
    "Building on the previous exercise, where the regular expression is `\"([a-zA-Z]+)(\\.)([a-zA-Z]+)\"`, change the expression so that the firstname appears at the beginning of the string.\n",
    "\n",
    "In addition, add the `@` symbol after the lastname then the department name\n",
    "\n",
    "Your new format will be `firstname.lastname@department`\n",
    "\n",
    "The new expression will match:\n",
    "* harry.potter@mom\n",
    "* bilbo.Baggins@SHIRE\n",
    "* Luke.swalker@rotj\n",
    "\n",
    "\n",
    "But not the following:\n",
    "* L.sharpe.1@mod\n",
    "* gerry.barry.chorley@ons"
   ]
  },
  {
   "cell_type": "code",
   "execution_count": null,
   "metadata": {
    "collapsed": true
   },
   "outputs": [],
   "source": [
    "# To see the answer run this cell once, to see the image run it again\n",
    "%load ../exercise_answers/exercise8.py"
   ]
  },
  {
   "cell_type": "markdown",
   "metadata": {
    "collapsed": true
   },
   "source": [
    "### Exercise 9 \n",
    "\n",
    "Write a regular expression that matches strings which end in \".gov.uk\". The string can contain any number of any character before the \".gov.uk\".\n",
    "\n",
    "The regex should fully match the following strings:\n",
    "\n",
    "* 1234567.gov.uk\n",
    "* jasmine.WALTON.gov.uk\n",
    "* .gov.uk\n",
    "* ......gov.uk\n",
    "\n",
    "But not match:\n",
    "\n",
    "* Jack.gov.uk.org\n",
    "* Sarah.gove.uk\n",
    "* Alison.gov.up"
   ]
  },
  {
   "cell_type": "code",
   "execution_count": null,
   "metadata": {
    "collapsed": true
   },
   "outputs": [],
   "source": [
    "# To see the answer run this cell once, to see the image run it again\n",
    "%load ../exercise_answers/exercise9.py"
   ]
  },
  {
   "cell_type": "markdown",
   "metadata": {},
   "source": [
    "### Exercise 10\n",
    "\n",
    "Combine the regular expressions from exercise 8 and 9 to solve the case study, in regex101 write your own tests based on the criteria and check your answer passes them. Below is a reminder of the case study requirements:\n",
    "\n",
    "> * the email follows \"firstname\" \".\" \"lastname\" convention in the username, such as \"Jenny.Smith@ons.gov.uk\". Each name should just be letters.\n",
    "* there is a \"@\" character between the username and email domain\n",
    "* the email ends in \".gov.uk\"\n",
    "* the domain contains a department name (it doesn't need to be a real department) before the \".gov.uk\", which is all letters.\n",
    "\n",
    "> You have been given the addition information:\n",
    "\n",
    "> * all letters in the emails can be upper or lowercase\n",
    "* the text will not contain any spaces\n",
    "\n",
    "We will test the expression in python later to see if it matches the test cases prepared."
   ]
  },
  {
   "cell_type": "markdown",
   "metadata": {
    "collapsed": true
   },
   "source": [
    "# Using regex in programming\n",
    "\n",
    "So far we have been using the regex101 tool to test the regular expressions we have designed. This is a great tool for learning, and testing individual expressions, but at some point we need to use the expressions in our programming itself.\n",
    "\n",
    "Regular expressions are supported in many programming major languages, including python, R, Unix and windows command line interfaces.\n",
    "\n",
    "Occasionally there are slight differences in how the languages style their regular expression, these differences are minor.\n",
    "\n",
    "In python there is a library included called `re` which gives the programmer access to regular expressions and related functions. In addition, to use regular expressions in dataframes `pandas` provides a range of string methods which take regular expressions as inputs.\n",
    "\n",
    "In R there is a package included called `grep` which allows the programmer to use regular expressions with text data. Within the `tidyverse` the `stringr` package has functions that can use regular expressions.\n",
    "\n",
    "This is a Python tutorial, so we will focus on how to use regex using python packages. "
   ]
  },
  {
   "cell_type": "markdown",
   "metadata": {},
   "source": [
    "## The `re` library\n",
    "\n",
    "The `re` library, short for regular expressions, contains a range of functions that allow us to use regular expressions in text. We are going to show two frequently used operations: searching and substituting. \n",
    "\n"
   ]
  },
  {
   "cell_type": "markdown",
   "metadata": {},
   "source": [
    "### Searching"
   ]
  },
  {
   "cell_type": "code",
   "execution_count": null,
   "metadata": {
    "collapsed": true
   },
   "outputs": [],
   "source": [
    "# Import the package to use it's functions\n",
    "import re\n",
    "\n",
    "# Define a string we are going to work with\n",
    "search_text = \"Mary had a little lamb.\"\n",
    "\n",
    "# Define a regex to matching a string starting with \"Mary\", \n",
    "# it can have anything after, but ends in \"little\"\n",
    "mary_regex = \"^(Mary).*(little)\"\n",
    "\n",
    "# Run the search function using the expression and string\n",
    "match_object = re.search(mary_regex, search_text)"
   ]
  },
  {
   "cell_type": "code",
   "execution_count": null,
   "metadata": {
    "collapsed": true
   },
   "outputs": [],
   "source": [
    "# The match object found contains all we need from our regex search\n",
    "match_object"
   ]
  },
  {
   "cell_type": "markdown",
   "metadata": {},
   "source": [
    "We can access each piece of information individually"
   ]
  },
  {
   "cell_type": "code",
   "execution_count": null,
   "metadata": {
    "collapsed": true
   },
   "outputs": [],
   "source": [
    "# The group() gives us the string that matches the regex\n",
    "match_object.group()"
   ]
  },
  {
   "cell_type": "code",
   "execution_count": null,
   "metadata": {
    "collapsed": true
   },
   "outputs": [],
   "source": [
    "# The string gives us the original string that was given to the search function\n",
    "match_object.string"
   ]
  },
  {
   "cell_type": "code",
   "execution_count": null,
   "metadata": {
    "collapsed": true
   },
   "outputs": [],
   "source": [
    "# The span() tells us what between which indexes the regex matches the string\n",
    "match_object.span()"
   ]
  },
  {
   "cell_type": "markdown",
   "metadata": {},
   "source": [
    "There is also a function to `re.findall()` function, which will return all non-overlapping strings in a string that match the given regex expression. It is called in a similar manner to `re.search()`."
   ]
  },
  {
   "cell_type": "markdown",
   "metadata": {},
   "source": [
    "### Substituting\n",
    "\n",
    "To substitute we need to define:\n",
    "* The regular expression stating what we want to match\n",
    "* The string we want to replace the match with\n",
    "* The string we want searched"
   ]
  },
  {
   "cell_type": "code",
   "execution_count": null,
   "metadata": {
    "collapsed": true
   },
   "outputs": [],
   "source": [
    "# Import the package to use it's function\n",
    "import re\n",
    "\n",
    "# Define a string we are going to work with\n",
    "original_text = \"The      porridge   in the  hotel     was    too hot\"\n",
    "\n",
    "# Define a regex to match the \"hot\" at the end of the string,\n",
    "# but not in \"hotel\"\n",
    "temperature_regex = \"hot$\"\n",
    "\n",
    "# Run the search function using the expression and string\n",
    "new_text = re.sub(temperature_regex, \"cold\", original_text)\n",
    "\n",
    "new_text"
   ]
  },
  {
   "cell_type": "code",
   "execution_count": null,
   "metadata": {
    "collapsed": true
   },
   "outputs": [],
   "source": [
    "# Find all spaces\n",
    "extra_spaces_regex = \" +\"\n",
    "\n",
    "# Replace single or multiple spaces with a single space\n",
    "no_spaces_text = re.sub(extra_spaces_regex, \" \", new_text)\n",
    "\n",
    "no_spaces_text"
   ]
  },
  {
   "cell_type": "markdown",
   "metadata": {},
   "source": [
    "### Using regex with `pandas`\n",
    "\n",
    "Pandas contains a range of string based methods in the `.str` group, such as `.startswith()`, `.replace()` and `.lower()`. \n",
    "\n",
    "Just like with `re` we can match and substitute using regular expressions using string data in `pandas` columns.\n",
    "\n",
    "This is done using the `.str.match(pat=regex)` method for matching and `.str.replace(pat=regex, repl=replacement, regex=True)` to substituting on the columns we want to operate on.\n",
    "\n",
    "The matching method will provide us with a Series of True/False values, depending on whether the string in each row matches the expression (`pat`) given. \n",
    "\n",
    "The replace method will return a new column where the string in each row has had any matching sub string replaced."
   ]
  },
  {
   "cell_type": "markdown",
   "metadata": {},
   "source": [
    "## Testing our regex\n",
    "\n",
    "Below we are going to import a dataset that contains (fake) emails which may or may not meet the specified criteria to be eligible for signing up to the event. There is a second column which will tell us whether the individual is eligible, we can check the result of our matching against this column."
   ]
  },
  {
   "cell_type": "code",
   "execution_count": null,
   "metadata": {
    "collapsed": true
   },
   "outputs": [],
   "source": [
    "import pandas as pd\n",
    "\n",
    "# Load dataset\n",
    "gov_emails = pd.read_csv(\"../data/emails.csv\")"
   ]
  },
  {
   "cell_type": "code",
   "execution_count": null,
   "metadata": {
    "collapsed": true
   },
   "outputs": [],
   "source": [
    "# Look at the columns and values\n",
    "gov_emails.head()"
   ]
  },
  {
   "cell_type": "code",
   "execution_count": null,
   "metadata": {
    "collapsed": true
   },
   "outputs": [],
   "source": [
    "# We have string and boolean data types\n",
    "gov_emails.dtypes"
   ]
  },
  {
   "cell_type": "markdown",
   "metadata": {},
   "source": [
    "Let's check which emails end in \".gov.uk\"."
   ]
  },
  {
   "cell_type": "code",
   "execution_count": null,
   "metadata": {
    "collapsed": true
   },
   "outputs": [],
   "source": [
    "# Define our regex\n",
    "ends_in_gov_uk = \".*(\\.gov\\.uk)$\"\n",
    "\n",
    "# Use match to check regex\n",
    "gov_emails[\"end_matches\"] = gov_emails[\"email\"].str.match(pat=ends_in_gov_uk)\n",
    "\n",
    "# Show some results\n",
    "gov_emails.head()"
   ]
  },
  {
   "cell_type": "markdown",
   "metadata": {},
   "source": [
    "We can see that three of the emails do not end in \"\\.gov\\.uk\", lets have a look at them."
   ]
  },
  {
   "cell_type": "code",
   "execution_count": null,
   "metadata": {
    "collapsed": true
   },
   "outputs": [],
   "source": [
    "# Mask the dataframe with only non-matching rows\n",
    "gov_emails[~gov_emails[\"end_matches\"]]"
   ]
  },
  {
   "cell_type": "markdown",
   "metadata": {},
   "source": [
    "Great, we can see that these shouldn't have matched the overall criteria anyway, probably because their domains are incorrect."
   ]
  },
  {
   "cell_type": "markdown",
   "metadata": {},
   "source": [
    "### Exercise 11\n",
    "\n",
    "Using your regular expression created in exercise 10 and the `gov_emails` data set create a new column called \"match\" which states whether the email matches your regular expression. Compare the values of \"match\" and \"should_match\", does your expression get it right for all the emails?\n",
    "\n",
    "If your expression does not match all the emails it should correctly keep improving it until all are matched."
   ]
  },
  {
   "cell_type": "code",
   "execution_count": null,
   "metadata": {
    "collapsed": true
   },
   "outputs": [],
   "source": [
    "# Write your code here\n"
   ]
  },
  {
   "cell_type": "code",
   "execution_count": null,
   "metadata": {
    "collapsed": true
   },
   "outputs": [],
   "source": [
    "# You can check how many mistakes your expression makes by running the code below\n",
    "print(\"Number of incorrect matches:\", (gov_emails[\"should_match\"] != gov_emails[\"match\"]).sum())"
   ]
  },
  {
   "cell_type": "code",
   "execution_count": null,
   "metadata": {
    "collapsed": true
   },
   "outputs": [],
   "source": [
    "# To see the answer run this cell once, to see the image run it again\n",
    "%load ../exercise_answers/exercise11.py"
   ]
  },
  {
   "cell_type": "markdown",
   "metadata": {},
   "source": [
    "## Summary\n",
    "\n",
    "Using regular expressions we can match complex patterns in strings. This is done by using \"special characters\" in the regex languages. Each of these characters has a meaning, which when combined can describe a pattern of text. \n",
    "\n",
    "The expressions will allow us to match and substitute with more flexibility and efficiency than traditional programming methods.\n",
    "\n",
    "We have covered the following regular expression concepts:\n",
    "* Matching strings\n",
    "* Sets\n",
    "* Multiple occurrences\n",
    "* The `.` character\n",
    "* Expression grouping\n",
    "* Beginning and ending strings\n",
    "\n",
    "In addition, we have briefly looked at using these concepts in python with:\n",
    "* The `re` library\n",
    "* `pandas`\n",
    "* Matching and substituting\n",
    "* A case study\n",
    "\n",
    "From here you should be able to build some of your own regular expressions to solve string based problems. Remember, it is crucial that you apply your expressions to test strings to check that the expression performs as intended.\n",
    "\n",
    "This tutorial covered a sub-set of special characters in regex, it is suggested you look through the **Further Reading** section to be aware of other"
   ]
  },
  {
   "cell_type": "markdown",
   "metadata": {},
   "source": [
    "## Further reading\n",
    "\n",
    "This tutorial goes through a subset of regular expressions and their features, there are many more features that can be explored.\n",
    "\n",
    "* [Quantifiers](https://launchschool.com/books/regex/read/quantifiers)\n",
    "* [Or operator - Alteration](https://www.regular-expressions.info/alternation.html)\n",
    "* [General python implementation](https://docs.python.org/3/howto/regex.html)\n",
    "* [Lookaheads and negation](https://blog.finxter.com/how-to-find-all-lines-not-containing-a-regex-in-python/)\n",
    "* [Shorthand character classes](https://www.regular-expressions.info/refshorthand.html)\n",
    "* [Example of cleaning text](https://medium.com/python-in-plain-english/data-cleaning-in-python-using-regular-expressions-920629586a05)"
   ]
  },
  {
   "cell_type": "markdown",
   "metadata": {
    "collapsed": true
   },
   "source": [
    "## Special Character Glossary\n",
    "\n",
    "Below is a short look up table to show the meaning of each of the special characters mentioned in this modules. A standalone version is available within the supporting materials folder.\n",
    "\n",
    "| Character  | Example  | Matches | Meaning  |\n",
    "|:-:|:-|:-:|--:|\n",
    "| \".\"  | \"Hello .\"  | \"Hello \", \"Hello 6\", \"Hello Y\" | Matches any character including no character  |\n",
    "| \"[]\"  | \"[a-z]\"  | \"a\", \"h\", \"g\"  | Any character included within the set  |\n",
    "| \"+\" | \"Hello+\" | \"Hello\", \"Helloo\", \"Hellooooo\" | Occurs once or more |\n",
    "| \"*\" | \"Hello*\" | \"Hell\", \"Hello\", \"Hellooooooo\" | Occurs zero or more times |\n",
    "| \"?\" | \"Hello?\" | \"Hell\", \"Hello\" | Occurs zero or one times |\n",
    "| {} | \"Goodb{1,3}ye\" | \"Goodbye\", \"Goodbbye\", \"Goodbbbye\" | Specifies the range of occurances, or a specific number |\n",
    "| ^ | \"^Welcome\" | \"Welcome\", **not** \"Hello, Welcome\" | Matches only at the start of the string|\n",
    "| \\$ | \"Adios\\$\" | \"Goodbye, Adios\", **not** \"Adios!\" | Matches only at the end of the string|\n",
    "| () | \"^(Hello)(.)(there)$\" | \"Hello there\", \"Hello,there\" | Groups expressions|\n",
    "| \\ | \"Who\\?\" | \"Who?\" | Escapes the following special character |\n"
   ]
  },
  {
   "cell_type": "code",
   "execution_count": null,
   "metadata": {
    "collapsed": true
   },
   "outputs": [],
   "source": []
  }
 ],
 "metadata": {
  "kernelspec": {
   "display_name": "Python 3",
   "language": "python",
   "name": "python3"
  },
  "language_info": {
   "codemirror_mode": {
    "name": "ipython",
    "version": 3
   },
   "file_extension": ".py",
   "mimetype": "text/x-python",
   "name": "python",
   "nbconvert_exporter": "python",
   "pygments_lexer": "ipython3",
   "version": "3.6.1"
  }
 },
 "nbformat": 4,
 "nbformat_minor": 2
}
