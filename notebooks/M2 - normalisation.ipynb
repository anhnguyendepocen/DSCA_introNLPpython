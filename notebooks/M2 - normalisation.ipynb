{
 "cells": [
  {
   "cell_type": "markdown",
   "metadata": {},
   "source": [
    "# Module 2: Text Normalisation - Preprocessing\n",
    "<br>\n"
   ]
  },
  {
   "cell_type": "markdown",
   "metadata": {},
   "source": [
    "## Table of Contents\n",
    "<br>\n",
    "\n",
    "<a href=\"#Module 2: Text Normalisation - Preprocessing\"><font size=\"+1\">Module 2: Text Normalisation - Preprocessing</font></a>\n",
    "<ol>\n",
    "  <li>What is Text Normalisation?</li>\n",
    "  <li>Lowercasing</li>\n",
    "  <li>Remove Punctuation</li>\n",
    "  <li>Tokenize</li>\n",
    "  <li>Lemmatization</li>\n",
    "  <li>Stemming</li>\n",
    "  <li>Stopword Removal</li>\n",
    "  <li>Remove Numbers</li>\n",
    "  <li>Remove the words having length less than 2</li>\n",
    "  <li>Using Stanza</li>\n",
    "  <li>Challenges</li>\n",
    "</ol>"
   ]
  },
  {
   "cell_type": "markdown",
   "metadata": {},
   "source": [
    "**Learning Outcomes:** \n",
    "\n",
    "* Explain the concept of normalisation, \n",
    "\n",
    "* Execute the following preprocessing steps to a dataset using nltk: \n",
    "\n",
    "    + Lowercase \n",
    "\n",
    "    + Tokenize \n",
    "\n",
    "    + Lemmatization \n",
    "    \n",
    "    + Stemming \n",
    "\n",
    "    + Removing stop words and punctuation\n",
    "\n",
    "    + Performing part-of-speech tagging. \n",
    " \n",
    " \n",
    "*  Differentiate between lemmatization and stemming. \n",
    "<br>\n",
    "\n",
    "Additionally you should be able to:\n",
    "\n",
    "* Execute tokenisation and lemmatisation using the Stanford Stanza library\n",
    "\n",
    "<br>\n"
   ]
  },
  {
   "cell_type": "code",
   "execution_count": null,
   "metadata": {
    "collapsed": true
   },
   "outputs": [],
   "source": [
    "# Import the libraries used in this module\n",
    "import nltk\n",
    "nltk.data.path.append(\"../pre_course/nltk_data\")\n",
    "import pandas as pd\n",
    "from nltk.stem import PorterStemmer\n",
    "from nltk.stem import WordNetLemmatizer\n",
    "from nltk.corpus import stopwords\n",
    "from nltk.collocations import *\n",
    "import string\n",
    "import re\n",
    "import stanza"
   ]
  },
  {
   "cell_type": "code",
   "execution_count": null,
   "metadata": {
    "collapsed": true
   },
   "outputs": [],
   "source": [
    "# Our data is stored in a pickle, a filetype that lets us store python objects\n",
    "patents = pd.read_pickle('../data/Patent_Dataset.pkl')"
   ]
  },
  {
   "cell_type": "code",
   "execution_count": null,
   "metadata": {},
   "outputs": [],
   "source": [
    "patents.head()"
   ]
  },
  {
   "cell_type": "code",
   "execution_count": null,
   "metadata": {
    "collapsed": true
   },
   "outputs": [],
   "source": [
    "# fix index\n",
    "patents.index = [i for i in range(0, len(patents))]"
   ]
  },
  {
   "cell_type": "code",
   "execution_count": null,
   "metadata": {
    "scrolled": true
   },
   "outputs": [],
   "source": [
    "patents.head()"
   ]
  },
  {
   "cell_type": "markdown",
   "metadata": {},
   "source": [
    "### 2.1 What is Text Normalisation?\n",
    "\n",
    "<br>\n",
    "\n",
    "Normalizing text means converting it to a more convenient, standard form. It aims to put all text on a level playing field. It requires being aware of what type of text is to be normalized and how it is to be processed afterwards; there is no all-purpose, one size fits all normalization procedure. \n",
    "<br>\n",
    "To normalise text some key preprocessing steps could be undertaken, for example:-\n",
    "\n",
    "<ul>\n",
    "  <li>Lowercasing</li>\n",
    "  <li>Removing all irrelevant characters (Numbers and Punctuation)</li>\n",
    "  <li>Removing Stopwords</li>\n",
    "  <li>Stemming</li>\n",
    "  <li>Lemmatization</li>\n",
    "</ul>\n",
    "\n",
    "The above is often referred to as *cleaning* the text. It is also part of a NLP *pipeline*\n",
    "\n",
    "<br>\n",
    "Typically, the text also undergoes <span style=\"color:blue\">tokenisation</span> to aid the normalisation process.\n",
    "<br>\n",
    "\n",
    "Once through preprocessing your text becomes more predictable and analyzable.  \n",
    "\n",
    "The pre-processing steps undertaken depends on the task. It is not necessary to do any or all of the steps shown below. Though most tasks do undertake lowercasing as a bare minimum. \n"
   ]
  },
  {
   "cell_type": "markdown",
   "metadata": {},
   "source": [
    "### 2.2 Lowercasing\n",
    "<br>\n",
    "Lowercasing all the text data is one of the simplest and most effective forms of text normalisation. \n",
    "\n",
    "Lowercasing is applicable to most NLP tasks and significantly helps with consistency of the output.\n",
    "\n",
    "It is useful because in a lot of applications where we are trying to capture meaning, capitalised words have the same meaning as those in lowercase. For example `Cat` (noun) at the beginning of a sentence is referring to the same thing as `cat` in the middle of a sentence.\n",
    "\n",
    "<br>"
   ]
  },
  {
   "cell_type": "code",
   "execution_count": null,
   "metadata": {},
   "outputs": [],
   "source": [
    "patents.loc[1,'abstract']"
   ]
  },
  {
   "cell_type": "code",
   "execution_count": null,
   "metadata": {
    "collapsed": true
   },
   "outputs": [],
   "source": [
    "# Function to lowercase input data\n",
    "def lowercase(ptext):\n",
    "    return ptext.lower()"
   ]
  },
  {
   "cell_type": "code",
   "execution_count": null,
   "metadata": {
    "collapsed": true
   },
   "outputs": [],
   "source": [
    "# Apply lowercasing function to all text within a column\n",
    "patents['abstract'] = patents['abstract'].apply(lowercase)"
   ]
  },
  {
   "cell_type": "code",
   "execution_count": null,
   "metadata": {},
   "outputs": [],
   "source": [
    "patents.loc[1,'abstract']"
   ]
  },
  {
   "cell_type": "code",
   "execution_count": null,
   "metadata": {
    "collapsed": true
   },
   "outputs": [],
   "source": [
    "# also often done in this manner\n",
    "patents['abstract'] = patents['abstract'].str.lower()"
   ]
  },
  {
   "cell_type": "markdown",
   "metadata": {},
   "source": [
    "### 2.3 Remove Punctuation\n",
    "<br>\n",
    "Punctuation is often irrelevant to the task at hand (such as counting word frequencies). By removing all or certain punctuation we remove the 'quirks' of individual sentences, standardising the text.\n",
    "\n",
    "Python provides a constant called `string.punctuation` that provides a great list of punctuation characters. \n",
    "\n",
    "<br>"
   ]
  },
  {
   "cell_type": "code",
   "execution_count": null,
   "metadata": {},
   "outputs": [],
   "source": [
    "print(string.punctuation)"
   ]
  },
  {
   "cell_type": "code",
   "execution_count": null,
   "metadata": {
    "collapsed": true
   },
   "outputs": [],
   "source": [
    "def remove_punct1(ptext):\n",
    "    for each_punctuation_mark in string.punctuation:\n",
    "          ptext = ptext.replace(each_punctuation_mark, \"\")\n",
    "    return ptext"
   ]
  },
  {
   "cell_type": "code",
   "execution_count": null,
   "metadata": {
    "collapsed": true
   },
   "outputs": [],
   "source": [
    "# Below is an alternative function for the same purpose - computationally efficient using regex\n",
    "def remove_punct2(ptext):\n",
    "    ptext = re.sub(string=ptext,\n",
    "                   pattern=\"[{}]\".format(string.punctuation), \n",
    "                   repl=\"\")\n",
    "    return ptext"
   ]
  },
  {
   "cell_type": "code",
   "execution_count": null,
   "metadata": {},
   "outputs": [],
   "source": [
    "patents.head()"
   ]
  },
  {
   "cell_type": "code",
   "execution_count": null,
   "metadata": {},
   "outputs": [],
   "source": [
    "patents.loc[1,'abstract']"
   ]
  },
  {
   "cell_type": "code",
   "execution_count": null,
   "metadata": {
    "collapsed": true
   },
   "outputs": [],
   "source": [
    "patents['abstract_no_punct'] = patents['abstract'].apply(remove_punct2)"
   ]
  },
  {
   "cell_type": "code",
   "execution_count": null,
   "metadata": {},
   "outputs": [],
   "source": [
    "patents.loc[1,'abstract_no_punct']"
   ]
  },
  {
   "cell_type": "markdown",
   "metadata": {},
   "source": [
    "### 2.4 Tokenize\n",
    "<br>\n",
    "Tokenization is the process of splitting the given text into smaller pieces called tokens. Words, numbers, punctuation marks, and others can be considered as tokens. Tokenization makes it easier to process the text eg find its frequency. \n",
    "\n",
    "Tokenizers can range in complexity, from using `.spit(\" \")` on text, to more rule based or machine learned implementations. Below we use `nltk`'s word tokenizer."
   ]
  },
  {
   "cell_type": "code",
   "execution_count": null,
   "metadata": {
    "collapsed": true
   },
   "outputs": [],
   "source": [
    "# Function to tokenise text\n",
    "\n",
    "def tokenisation(ptext):\n",
    "    return nltk.word_tokenize(ptext)"
   ]
  },
  {
   "cell_type": "code",
   "execution_count": null,
   "metadata": {
    "collapsed": true
   },
   "outputs": [],
   "source": [
    "# Apply to 'abstract' column in dataframe\n",
    "patents['abstract_tokens'] = patents['abstract'].apply(tokenisation)"
   ]
  },
  {
   "cell_type": "code",
   "execution_count": null,
   "metadata": {},
   "outputs": [],
   "source": [
    "patents.loc[1,'abstract_tokens']"
   ]
  },
  {
   "cell_type": "markdown",
   "metadata": {},
   "source": [
    "**Note: Line Segmentation**  \n",
    "\n",
    "Text can also be split to identify sentences.\n",
    "\n",
    "This can be done using the **sent_tokenize()** function from nltk."
   ]
  },
  {
   "cell_type": "code",
   "execution_count": null,
   "metadata": {
    "collapsed": true
   },
   "outputs": [],
   "source": [
    "# Function to tokenize each string\n",
    "def tokens_sentences(ptext):\n",
    "    return nltk.sent_tokenize(ptext)"
   ]
  },
  {
   "cell_type": "code",
   "execution_count": null,
   "metadata": {
    "collapsed": true
   },
   "outputs": [],
   "source": [
    "# Apply tokenisation to abstract column in dataframe\n",
    "patents['abstract_sentences'] = patents['abstract'].apply(tokens_sentences)"
   ]
  },
  {
   "cell_type": "code",
   "execution_count": null,
   "metadata": {},
   "outputs": [],
   "source": [
    "patents.loc[1,'abstract']"
   ]
  },
  {
   "cell_type": "code",
   "execution_count": null,
   "metadata": {},
   "outputs": [],
   "source": [
    "patents.loc[1,'abstract_sentences']"
   ]
  },
  {
   "attachments": {
    "stemlemma2.png": {
     "image/png": "[encoded data removed]"
    }
   },
   "cell_type": "markdown",
   "metadata": {},
   "source": [
    "### 2.5 Lemmatization\n",
    "<br>\n",
    "\n",
    "Lemmatisation uses vocabulary and morphological analysis of words to remove inflectional endings only and to return the base or dictionary form of a word, which is known as the <span style=\"color:blue\"> lemma.</span>  Most lemmatisers achieve this using a lookup table and so this process, when you have large volumes of text may be slower than the alternative; stemming. However, it is often a recommended approach in a variety of applications due to it's accuracy.\n",
    "\n",
    "Also, sometimes, the same word can have multiple different ‘lemma’s. So, based on the context it’s used in, you should identify the ‘part-of-speech’ (POS) tag for the word in that specific context and extract the appropriate lemma. POS tagging will be discussed in more detail in later modules.\n",
    "\n",
    "\n",
    "<br>\n",
    "\n",
    "**Lemmatization and Stemming:** Stemming operates on each word without considering the context and it cannot discriminate between different word meaning. Lemmatization, however, takes into account the part of speech and the context. Stemming is explained in more detail below.\n",
    "\n",
    "Caring -> Lemmatization -> ‘Care’ \n",
    "<br>\n",
    "Caring -> Stemming -> ‘Car’\n",
    "\n",
    "\n",
    "**Example:**\n",
    " \n",
    "*\"better\"*: has *\"good\"* as its lemma and \"better\" as its stem <br>\n",
    "*\"walking\"*: has  *\"walk\"* as its lemma and stem <br>\n",
    "*\"meeting\"*: can be either the base a noun or a verb depending on the context, eg *\"in our last meeting\"* or *\"We are meeting again tomorrow\"*. \n",
    "<br>\n",
    "Lemmatization can select the appropriate lemma based on the context, unlike stemming.\n",
    "<br>\n",
    "\n",
    "![stemlemma2.png](attachment:stemlemma2.png)\n",
    "\n",
    "<br>\n",
    "\n",
    "\n",
    "Stemming may be more useful in queries for databases whereas lemmazation may work much better when trying to determine text sentiment."
   ]
  },
  {
   "cell_type": "code",
   "execution_count": null,
   "metadata": {},
   "outputs": [],
   "source": [
    "patents.head()"
   ]
  },
  {
   "cell_type": "code",
   "execution_count": null,
   "metadata": {
    "collapsed": true
   },
   "outputs": [],
   "source": [
    "# Define the lemmatize() function\n",
    "\n",
    "def lemmatise(ptokens):\n",
    "    lemmatizer = WordNetLemmatizer()\n",
    "    return [lemmatizer.lemmatize(token) for token in ptokens]"
   ]
  },
  {
   "cell_type": "code",
   "execution_count": null,
   "metadata": {
    "collapsed": true
   },
   "outputs": [],
   "source": [
    "patents['abstract_tokens_lemmatised'] = patents['abstract_tokens'].apply(lemmatise)"
   ]
  },
  {
   "cell_type": "code",
   "execution_count": null,
   "metadata": {},
   "outputs": [],
   "source": [
    "patents.head()"
   ]
  },
  {
   "cell_type": "code",
   "execution_count": null,
   "metadata": {},
   "outputs": [],
   "source": [
    "# Without lemmatisation\n",
    "patents.loc[1,'abstract_tokens']"
   ]
  },
  {
   "cell_type": "code",
   "execution_count": null,
   "metadata": {},
   "outputs": [],
   "source": [
    "# With lemmatisation\n",
    "patents.loc[1,'abstract_tokens_lemmatised']"
   ]
  },
  {
   "cell_type": "markdown",
   "metadata": {},
   "source": [
    "The above code is a simple example of how to use the wordnet lemmatizer on words and sentences.\n",
    "Performance can be improved if we add the correct ‘part-of-speech’ tag (POS tag) as the second argument to lemmatize().\n",
    "An example of this will be provided later."
   ]
  },
  {
   "cell_type": "markdown",
   "metadata": {},
   "source": [
    "### 2.6 Stemming\n",
    "<br>\n",
    "<span style=\"color:blue\"> The process of reducing inflected (or sometimes derived) words to their word stem; that is, their base or root form.</span>  \n",
    "<br>\n",
    "For example, the words; *argue, argued, argues, arguing* reduce to the stem *argu*. Usually stemming is a crude heuristic process that chops off the ends of words in the hope of achieving the root correctly most of the time.\n",
    "\n",
    "Stemming aims to remove the excess part of the word to be able to identify words that are similar.\n",
    "\n",
    "There are different algorithms that can be used in the stemming process, but the most common in English is <span style=\"color:blue\">Porter Stemmer.</span>  The rules contained in this algorithm are divided into different phases.The purpose of these rules is to reduce the words to their root.\n",
    "\n",
    "The danger here lies in the possibility of overstemming where words like “universe” and “university” are reduced to the same root of “univers”."
   ]
  },
  {
   "cell_type": "code",
   "execution_count": null,
   "metadata": {
    "collapsed": true
   },
   "outputs": [],
   "source": [
    "# Define stemming function\n",
    "\n",
    "def stemming(ptoken):\n",
    "    stemmer = PorterStemmer()\n",
    "    return [stemmer.stem(token) for token in ptoken]    "
   ]
  },
  {
   "cell_type": "code",
   "execution_count": null,
   "metadata": {
    "collapsed": true
   },
   "outputs": [],
   "source": [
    "patents['abstract_tokens_stemmed'] = patents['abstract_tokens'].apply(stemming)"
   ]
  },
  {
   "cell_type": "code",
   "execution_count": null,
   "metadata": {},
   "outputs": [],
   "source": [
    "patents.head()"
   ]
  },
  {
   "cell_type": "code",
   "execution_count": null,
   "metadata": {},
   "outputs": [],
   "source": [
    "patents.loc[5,'abstract_tokens_stemmed']"
   ]
  },
  {
   "cell_type": "markdown",
   "metadata": {},
   "source": [
    "### 2.7 Stopword Removal\n",
    "\n",
    "A stop word is a commonly used word (such as “the”, “a”, “an”, “in”). Stop words can be filtered from the text to be processed. There is no universal list of stop words in NLP, however the nltk module contains a list of stop words. Removal of stopwords can boost performance in machine learning classification tasks.\n",
    "\n",
    "Stop word removal is commonly applied in search systems, text classification applications, topic modeling, topic extraction and others. Stop word lists can come from pre-established sets or you can create a custom one for your domain.\n",
    "\n",
    "The reason this often works is because stopwords often do not add meaning to the sentence. For example if you wanted to work out what was important in the sentence below:\n",
    "\n",
    "\"The cat ate a mouse\"\n",
    "\n",
    "The same sentence without stopwords conveys most of the meaning:\n",
    "\n",
    "\"cat ate mouse\""
   ]
  },
  {
   "cell_type": "code",
   "execution_count": null,
   "metadata": {
    "scrolled": true
   },
   "outputs": [],
   "source": [
    "patents.head()"
   ]
  },
  {
   "cell_type": "code",
   "execution_count": null,
   "metadata": {
    "scrolled": true
   },
   "outputs": [],
   "source": [
    "# Display the stopwords given by nltk\n",
    "print(stopwords.words('english'))"
   ]
  },
  {
   "cell_type": "code",
   "execution_count": null,
   "metadata": {
    "collapsed": true
   },
   "outputs": [],
   "source": [
    "# Define a function to remove stopwords from list of tokens\n",
    "\n",
    "def clean_stopwords(tokens):\n",
    "    stop_words = set(stopwords.words('english'))\n",
    "    return [item for item in tokens if item not in stop_words]"
   ]
  },
  {
   "cell_type": "code",
   "execution_count": null,
   "metadata": {
    "collapsed": true
   },
   "outputs": [],
   "source": [
    "patents['abstract_tokens'] = patents['abstract_tokens'].apply(clean_stopwords)"
   ]
  },
  {
   "cell_type": "code",
   "execution_count": null,
   "metadata": {},
   "outputs": [],
   "source": [
    "patents.head()"
   ]
  },
  {
   "cell_type": "code",
   "execution_count": null,
   "metadata": {
    "scrolled": true
   },
   "outputs": [],
   "source": [
    "patents.iloc[5,4]"
   ]
  },
  {
   "cell_type": "markdown",
   "metadata": {},
   "source": [
    "### 2.8 Remove Numbers\n",
    "\n",
    "Numerical values in text may not add any value to the analysis attempted. So, numbers can be removed from text. We can use regular-expressions (regex) to get rid of numbers. "
   ]
  },
  {
   "cell_type": "code",
   "execution_count": null,
   "metadata": {},
   "outputs": [],
   "source": [
    "patents.iloc[23,1]"
   ]
  },
  {
   "cell_type": "code",
   "execution_count": null,
   "metadata": {
    "collapsed": true
   },
   "outputs": [],
   "source": [
    "def remove_num(ptokens):\n",
    "    return [token for token in ptokens if token.isalpha()]"
   ]
  },
  {
   "cell_type": "code",
   "execution_count": null,
   "metadata": {
    "collapsed": true
   },
   "outputs": [],
   "source": [
    "#another way using regular expression"
   ]
  },
  {
   "cell_type": "code",
   "execution_count": null,
   "metadata": {
    "collapsed": true
   },
   "outputs": [],
   "source": [
    "# function to remove numbers\n",
    "def remove_num2(text):\n",
    "    # define the pattern to keep\n",
    "    pattern = r'[^a-zA-z.,!?/:;\\\"\\'\\s]' \n",
    "    return re.sub(pattern, '', text)\n"
   ]
  },
  {
   "cell_type": "code",
   "execution_count": null,
   "metadata": {},
   "outputs": [],
   "source": [
    "print(remove_num2(\"007 Not sure@ if this % was #fun! 558923 What do# you think** of it.? $500USD!\"))"
   ]
  },
  {
   "cell_type": "code",
   "execution_count": null,
   "metadata": {},
   "outputs": [],
   "source": [
    "print(\" \".join(remove_num(\"007 Not sure@ if this % was #fun! 558923 What do# you think** of it.? $500USD!\".split(\" \"))))"
   ]
  },
  {
   "cell_type": "code",
   "execution_count": null,
   "metadata": {
    "collapsed": true
   },
   "outputs": [],
   "source": [
    "patents['abstract_tokens'] = patents['abstract_tokens'].apply(remove_num)"
   ]
  },
  {
   "cell_type": "code",
   "execution_count": null,
   "metadata": {},
   "outputs": [],
   "source": [
    "patents.loc[73,'abstract_tokens']"
   ]
  },
  {
   "cell_type": "code",
   "execution_count": null,
   "metadata": {},
   "outputs": [],
   "source": [
    "patents.loc[73,'abstract_tokens']"
   ]
  },
  {
   "cell_type": "markdown",
   "metadata": {},
   "source": [
    "### 2.9 Remove the words having length less than 2"
   ]
  },
  {
   "cell_type": "markdown",
   "metadata": {},
   "source": [
    "Remove words with two or fewer characters from a document.This could be useful in removing further words that are \"semantically empty\""
   ]
  },
  {
   "cell_type": "code",
   "execution_count": null,
   "metadata": {
    "scrolled": true
   },
   "outputs": [],
   "source": [
    "patents.head()"
   ]
  },
  {
   "cell_type": "code",
   "execution_count": null,
   "metadata": {
    "collapsed": true
   },
   "outputs": [],
   "source": [
    "def remove_short_tokens(ptokens):\n",
    "    return [token for token in ptokens if len(token) > 2]"
   ]
  },
  {
   "cell_type": "code",
   "execution_count": null,
   "metadata": {
    "collapsed": true
   },
   "outputs": [],
   "source": [
    "patents['abstract_tokens'] = patents['abstract_tokens'].apply(remove_short_tokens)"
   ]
  },
  {
   "cell_type": "code",
   "execution_count": null,
   "metadata": {},
   "outputs": [],
   "source": [
    "patents.head()"
   ]
  },
  {
   "cell_type": "code",
   "execution_count": null,
   "metadata": {
    "scrolled": false
   },
   "outputs": [],
   "source": [
    "patents.iloc[5,4]"
   ]
  },
  {
   "cell_type": "code",
   "execution_count": null,
   "metadata": {
    "collapsed": true
   },
   "outputs": [],
   "source": [
    "# Perform all the preprocessing steps wrapped into one function"
   ]
  },
  {
   "cell_type": "code",
   "execution_count": null,
   "metadata": {
    "collapsed": true
   },
   "outputs": [],
   "source": [
    "def preprocessing_with_lemmatisation(raw_data):\n",
    "    \"\"\"Function to perform all preprocessing steps with lemmatisation\"\"\"\n",
    "    ptext = lowercase(raw_data)\n",
    "    ptext = remove_punct1(ptext)\n",
    "    ptext = tokenisation(ptext)\n",
    "    ptext = lemmatise(ptext)\n",
    "    ptext = remove_num(ptext)\n",
    "    ptext = clean_stopwords(ptext)\n",
    "    ptext = remove_short_tokens(ptext)\n",
    "\n",
    "    return ptext"
   ]
  },
  {
   "cell_type": "code",
   "execution_count": null,
   "metadata": {
    "collapsed": true
   },
   "outputs": [],
   "source": [
    "def preprocessing_with_stemming(raw_data):\n",
    "    \"\"\"Function to perform all preprocessing steps with stemming\"\"\"\n",
    "    ptext = lowercase(raw_data)\n",
    "    ptext = remove_punct1(ptext)\n",
    "    ptext = tokenisation(ptext)\n",
    "    ptext = stemming(ptext)\n",
    "    ptext = remove_num(ptext)\n",
    "    ptext = clean_stopwords(ptext)\n",
    "    ptext = remove_short_tokens(ptext)\n",
    "        \n",
    "    return ptext"
   ]
  },
  {
   "cell_type": "code",
   "execution_count": null,
   "metadata": {
    "collapsed": true
   },
   "outputs": [],
   "source": [
    "patents['processed_with_lem'] = patents['abstract'].apply(preprocessing_with_lemmatisation)"
   ]
  },
  {
   "cell_type": "code",
   "execution_count": null,
   "metadata": {
    "collapsed": true
   },
   "outputs": [],
   "source": [
    "patents['processed_with_stem'] = patents['abstract'].apply(preprocessing_with_stemming)"
   ]
  },
  {
   "cell_type": "code",
   "execution_count": null,
   "metadata": {},
   "outputs": [],
   "source": [
    "patents.head()"
   ]
  },
  {
   "cell_type": "code",
   "execution_count": null,
   "metadata": {},
   "outputs": [],
   "source": [
    "patents.head()"
   ]
  },
  {
   "cell_type": "markdown",
   "metadata": {},
   "source": [
    "### 2.10 Using Stanza"
   ]
  },
  {
   "attachments": {
    "pipelinestanza.png": {
     "image/png": "[encoded data removed]"
    }
   },
   "cell_type": "markdown",
   "metadata": {},
   "source": [
    "Stanza is a Python natural language analysis package. It contains tools, which can be used in a pipeline, to convert a string containing human language text into lists of sentences and words, to generate base forms of those words, their parts of speech and morphological features, to give a syntactic structure dependency parse, and to recognize named entities. (Stanford University, 2020).\n",
    "<br>\n",
    "\n",
    "![pipelinestanza.png](attachment:pipelinestanza.png)\n",
    "\n",
    "<br>\n",
    "\n",
    "Some example on how to use stanza for language processing shown below - further examples highlighted in the language syntax and structure module."
   ]
  },
  {
   "cell_type": "markdown",
   "metadata": {},
   "source": [
    "#### Pipeline\n",
    "\n",
    "To start annotating text with Stanza, you would typically start by building a Pipeline that contains Processors, each fulfilling a specific NLP task you desire (e.g., tokenization, part-of-speech tagging, syntactic parsing, etc). The pipeline takes in raw text or a Document object that contains partial annotations, runs the specified processors in succession, and returns an annotated Document."
   ]
  },
  {
   "cell_type": "markdown",
   "metadata": {},
   "source": [
    "#### Processors\n",
    "\n",
    "Processors are units of the neural pipeline that perform specific NLP functions and create different annotations for a Document. The neural pipeline supports the following processors:\n",
    "\n",
    "tokenize, mwt(expands multi word expressions), pos(part of speech), lemma, depparse(dependency parsing),\n",
    "ner(named endtity recognition)\n"
   ]
  },
  {
   "cell_type": "code",
   "execution_count": null,
   "metadata": {
    "collapsed": true
   },
   "outputs": [],
   "source": [
    "# the English model download below requires ~0.5 Gb of memory\n",
    "# For some networked devices the code below will not run."
   ]
  },
  {
   "cell_type": "code",
   "execution_count": null,
   "metadata": {},
   "outputs": [],
   "source": [
    "\n",
    "stanza.download('en') # download English model\n",
    "nlp = stanza.Pipeline('en') # initialize English neural pipeline\n",
    "doc = nlp(\"Barack Obama was born in Hawaii.\") # run annotation over a sentence"
   ]
  },
  {
   "cell_type": "code",
   "execution_count": null,
   "metadata": {
    "collapsed": true
   },
   "outputs": [],
   "source": [
    "print(doc) "
   ]
  },
  {
   "cell_type": "code",
   "execution_count": null,
   "metadata": {
    "collapsed": true
   },
   "outputs": [],
   "source": [
    "# Tokenisation and sentence splitting"
   ]
  },
  {
   "cell_type": "code",
   "execution_count": null,
   "metadata": {
    "collapsed": true
   },
   "outputs": [],
   "source": [
    "nlp = stanza.Pipeline(lang='en', processors='tokenize')\n",
    "doc = nlp('This is a test sentence for stanza. This is another sentence.')\n",
    "\n",
    "for index, sentence in enumerate(doc.sentences):\n",
    "    print(f'====== Sentence {index+1} tokens =======')\n",
    "    print(*[f'id: {token.id}\\ttext: {token.text}' for token in sentence.tokens], sep='\\n')"
   ]
  },
  {
   "cell_type": "code",
   "execution_count": null,
   "metadata": {
    "collapsed": true
   },
   "outputs": [],
   "source": [
    "# Lematisation"
   ]
  },
  {
   "cell_type": "code",
   "execution_count": null,
   "metadata": {
    "collapsed": true
   },
   "outputs": [],
   "source": [
    "nlp = stanza.Pipeline(lang='en', processors='tokenize,mwt,pos,lemma')\n",
    "doc = nlp('Barack Obama was born in Hawaii.')\n",
    "print(*[f'word: {word.text+\" \"}\\tlemma: {word.lemma}' for sent in doc.sentences for word in sent.words], sep='\\n')"
   ]
  },
  {
   "cell_type": "markdown",
   "metadata": {},
   "source": [
    "### 2.11 Challenges\n",
    "\n",
    "As mentioned previously, with each processing technique there are challenges associated or areas where the technique performs poorly. It is important to be aware of what these could be for each step in your processing pipeline.\n",
    "<br>\n",
    "\n",
    "#### 2.12 Punctuation\n",
    "Words like Ph.D that have a ., but the sentence does not finish would require an exception function. Additionally words like \"don't\", \"won't\" also need to be handled with caution.\n",
    "\n",
    "#### 2.13 Consistency\n",
    "Using different methods for lemmatization may give different results- staying consistent throughout your work will ease your processing and will not mess with your results\n",
    "\n",
    "#### 2.14 Stemming\n",
    "Usually stemming is not preferred. If you do want to use stemming to help you find more words that are closely related, then it would be better if you keep the stemmised and the non-stemmised version of the word. This will help you present the results as the end.\n",
    "\n",
    "\n",
    "<br>"
   ]
  },
  {
   "cell_type": "markdown",
   "metadata": {},
   "source": [
    "#### Exercises\n",
    "<br>\n",
    "\n",
    "<ol>\n",
    "  <li>Import the Hep Dataset and perform the following preprocessing steps to the \"Text\" column.</li>\n",
    "    \n",
    "        Lowercasing\n",
    "        Remove Punctuation\n",
    "        Tokenize\n",
    "        Lemmatization\n",
    "        Stemming\n",
    "        Stopword Removal\n",
    "        Remove Numbers\n",
    "        Remove the words having length less than 2\n",
    "        Tokenise, sentence splitting and lemmatisation using Stanza\n",
    " \n",
    "</ol>\n",
    "\n",
    "Guidelines: \n",
    "\n",
    "* Change the \"Text\" columnn from list to a string before undertaking pre-processing.  <br>\n",
    "* Perform the preprocessing steps in the same way as done to the patent dataset abstract column. <br>\n",
    "* Once punctuation removal, tokenisation, lemmatisation, stemming undertaken put the results in new columns in the df. <br> \n",
    "* Apply lemmatisation and stemming on text that has been tokenised <br> \n",
    "* Make a copy of the df once loaded in using copy() <br>\n",
    "* Use Stanza on limited data \n",
    "\n",
    "hep2 = hep.copy()\n"
   ]
  },
  {
   "cell_type": "code",
   "execution_count": null,
   "metadata": {
    "collapsed": true
   },
   "outputs": [],
   "source": [
    "hep = pd.read_pickle(\"../data/Hep_Dataset.pkl\")"
   ]
  },
  {
   "cell_type": "code",
   "execution_count": null,
   "metadata": {
    "collapsed": true
   },
   "outputs": [],
   "source": [
    "hep.head()"
   ]
  },
  {
   "cell_type": "code",
   "execution_count": null,
   "metadata": {
    "collapsed": true
   },
   "outputs": [],
   "source": [
    "hep.shape"
   ]
  },
  {
   "cell_type": "code",
   "execution_count": null,
   "metadata": {
    "collapsed": true
   },
   "outputs": [],
   "source": [
    "# Write your code here\n"
   ]
  },
  {
   "cell_type": "markdown",
   "metadata": {},
   "source": [
    "#### References\n",
    "\n",
    "\n",
    "https://mc.ai/text-preprocessing-for-nlp-and-machine-learning-tasks/"
   ]
  },
  {
   "cell_type": "code",
   "execution_count": null,
   "metadata": {
    "collapsed": true
   },
   "outputs": [],
   "source": []
  }
 ],
 "metadata": {
  "kernelspec": {
   "display_name": "Python 3",
   "language": "python",
   "name": "python3"
  },
  "language_info": {
   "codemirror_mode": {
    "name": "ipython",
    "version": 3
   },
   "file_extension": ".py",
   "mimetype": "text/x-python",
   "name": "python",
   "nbconvert_exporter": "python",
   "pygments_lexer": "ipython3",
   "version": "3.6.1"
  }
 },
 "nbformat": 4,
 "nbformat_minor": 4
}
