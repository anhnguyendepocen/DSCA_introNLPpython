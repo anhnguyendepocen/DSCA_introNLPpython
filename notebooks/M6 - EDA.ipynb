{
 "cells": [
  {
   "cell_type": "markdown",
   "metadata": {},
   "source": [
    "# Chapter 6: Exploratory Data Analysis (EDA)"
   ]
  },
  {
   "cell_type": "markdown",
   "metadata": {},
   "source": [
    "## Table of Contents\n",
    "<br>\n",
    "\n",
    "<a href=\"#Module 6: Exploratory Data Analysis\"><font size=\"+1\">Module 6: Exploratory Data Analysis</font></a>\n",
    "<ol>\n",
    "  <li>What is EDA?</li>\n",
    "  <li>Corpus Linguistics for EDA</li>\n",
    "  <li>Corpus Linguistics - Method 1: Word Frequency Analysis</li>\n",
    "  <li>Corpus Linguistics - Method 2: Concordance</li>\n",
    "  <li>Corpus Linguistics - Method 3: Collocation</li>\n",
    "  <li>Corpus Linguistics - Method 4: Keyness</li>\n",
    "  <li>kmeans</li>\n",
    "</ol>"
   ]
  },
  {
   "cell_type": "markdown",
   "metadata": {},
   "source": [
    "**Learning Outcomes:** \n",
    "\n",
    "\n",
    "* Describe the 4 key techniques in corpus linguitics\n",
    "* Extract raw frequencies, concodance, collocations and keyness from the corpus under study\n",
    "* Calculate lexical diversity.\n",
    "* View lexical dispersion on selected tokens\n",
    "* List the benefits that corncordance tools can bring to linguistics analysis\n",
    "* View exical dispersion on selected tokens\n",
    "* Execute kmeans clustering on text column in dataframe.\n",
    "\n",
    "<br>"
   ]
  },
  {
   "cell_type": "code",
   "execution_count": null,
   "metadata": {
    "collapsed": true
   },
   "outputs": [],
   "source": [
    "# Import libraries used\n",
    "import pandas as pd\n",
    "import matplotlib.pyplot as plt\n",
    "import nltk\n",
    "nltk.data.path.append(\"../pre_course/nltk_data\")\n",
    "from collections import Counter\n",
    "from nltk import ngrams\n",
    "from nltk.corpus import stopwords\n",
    "import string\n",
    "from wordcloud import WordCloud, STOPWORDS, ImageColorGenerator\n",
    "from sklearn.feature_extraction.text import CountVectorizer, TfidfVectorizer\n",
    "from sklearn.cluster import KMeans\n",
    "import numpy as np\n",
    "import collections"
   ]
  },
  {
   "cell_type": "markdown",
   "metadata": {},
   "source": [
    "### 6.1 What is EDA?\n",
    "\n",
    "As the name suggests, you’re exploring – looking for clues!\n",
    "\n",
    "Tukey (1977) calls it: “*detective work*”\n",
    "\n",
    "For example:\n",
    "\n",
    "<ul>\n",
    "  <li>Establishing the data’s underlying structure</li>\n",
    "  <li>Identifying mistakes and missing data</li>\n",
    "  <li>Establishing the key variables</li>\n",
    "  <li>Establishing the data’s underlying structure</li>\n",
    "  <li>Spotting anomalies</li>\n",
    "  <li>Checking assumptions and testing hypotheses in relation to a specific model</li>   \n",
    "</ul>\n",
    "\n",
    "\n",
    "The above analysis is done to:\n",
    "\n",
    "\n",
    "<ul>\n",
    "  <li>Discover Patterns</li>\n",
    "  <li>Spot Anomalies</li>\n",
    "  <li>Frame Hypothesis</li>\n",
    "  <li>Check Assumptions</li>\n",
    "</ul>\n",
    "\n",
    "\n",
    "EDA is used in conjuction with **Confirmatory Data Analysis** where you evaluate your evidence using traditional statistical tools such as significance, inference, and confidence.\n",
    "\n",
    "\n",
    "Which one of the following tasks could be designated as EDA activity ?\n",
    "\n",
    "<ul>\n",
    "  <li>Get a feel of the data, describe the data, look at a sample of data like first and last rows</li>\n",
    "  <li>Perform data profiling (informative summaries about the data eg mean, median, mode)</li>\n",
    "  <li>Define the feature variables that can potentially be used for machine learning</li>\n",
    "  <li>Recognise the challenges posed by data - missing values, outliers</li>\n",
    "  <li>Examine key words in context, most frequently occuring words</li>\n",
    "  <li>Perform cluster analysis to determine how linguistic features are related</li>\n",
    "  <li>Apply methods to uncover topics in the text</li>  \n",
    "  <li>Hypothesis/significance testing</li>\n",
    "  <li>Regresssion/Variance Analysis</li>   \n",
    "</ul>\n",
    "\n",
    "**Key terms**\n",
    "\n",
    "An **N-gram means** a sequence of N words. They are extensively used in natural language processing tasks. They are set of co-occurring words within a given window and when computing the n-grams you typically move one word forward. \n",
    "\n",
    "For example, “*The cow jumps over the moon*”. If N=2 (known as bigrams), then the ngrams would be:\n",
    "\n",
    "<ul>\n",
    "  <li>the cow</li>\n",
    "  <li>cow jumps</li>\n",
    "  <li>jumps over</li>\n",
    "</ul>\n",
    "\n",
    "If N=3, the n-grams would be:\n",
    "\n",
    "\n",
    "<ul>\n",
    "  <li>the cow jumps</li>\n",
    "  <li>cow jumps over</li>\n",
    "  <li>jumps over the</li>\n",
    "</ul>\n",
    "\n",
    "\n",
    "More in Module 6 Feature Representations"
   ]
  },
  {
   "cell_type": "markdown",
   "metadata": {},
   "source": [
    "### 6.2 Corpus Linguistics for EDA"
   ]
  },
  {
   "cell_type": "markdown",
   "metadata": {},
   "source": [
    "Corpus linguistics is a field which focuses upon a set of methods, for studying language.\n",
    "\n",
    "It is the **scientific study of language on the basis of text corpora.** \n",
    "\n",
    "It is not a monolithic, consensually agreed set of methods and procedures. \n",
    "\n",
    "It is a heterogeneous field – although there are some basic generalisations that we can make.\n",
    "\n",
    "Corpus linguistics invloves gathering a **corpus** (homogenuous, of a particular genre).\n",
    "\n",
    "A corpus (plural corpora) is a **collection of texts** used for linguistic analyses.\n",
    "\n",
    "Such corpora generally comprise hundreds of thousands to billions of words and are not made up of the linguist’s or a native speaker’s invented examples but based on **authentic naturally occurring spoken or written usage.**\n",
    "\n",
    "<br>\n",
    "\n",
    "\n",
    "**Types of corpora and some famous (English) examples**\n",
    "\n",
    "*Balanced, representative* <br>\n",
    "Texts selected in pre-defined proportions to mirror a particular language or language variety.<br>\n",
    "Examples:\n",
    "BNC: British National Corpus <br>\n",
    "<ul>\n",
    "  <li>100 m words, 10% spoken</li>\n",
    "  <li>Carefully composed to be ‘balanced’</li>\n",
    "</ul>\n",
    "\n",
    "*Monitor* <br>\n",
    "New texts added by and by to ‘monitor’ language change.<br>\n",
    "Examples:<br>\n",
    "BoE: Bank of English \n",
    "<ul>\n",
    "  <li>Written and spoken, much newspaper/media language</li>\n",
    "  <li>Different varieties and text categories</li>\n",
    "  <li>Part can be searched online</li>\n",
    "</ul>\n",
    "\n",
    "\n",
    "*Parallel (translation)* <br>\n",
    "Same texts in two (or more) languages <br>\n",
    "Examples:<br>\n",
    "OPUS open source parallel corpus \n",
    "<ul>\n",
    "  <li>Access to aligned corpora, mainly EU texts.</li>\n",
    "  <li>Unknown size</li>\n",
    "</ul>\n",
    "\n",
    "\n",
    "*Comparable* <br>\n",
    "Similar texts in two, or more, languages or language varieties <br>\n",
    "Examples:<br>\n",
    "ICE: International Corpus of English \n",
    "<ul>\n",
    "  <li>Different varieties of English (British, Irish, EastAfrican, etc)</li>\n",
    "  <li>50% spoken</li>\n",
    "  <li>Some freely available</li>\n",
    "</ul>\n",
    "\n",
    "\n",
    "*Diachronic* <br>\n",
    "Include texts from different (consecutive) periods, preferable comparable ones <br>\n",
    "Examples: <br>\n",
    "Helsinki Corpus of English Texts <br>\n",
    "<ul>\n",
    "  <li>Old, Middle, and Early Modern English</li>\n",
    "  <li>Text samples</li>\n",
    "</ul>\n",
    "\n",
    "<br>\n",
    "\n",
    "**Typically 4 Key methods are used in Corpus Linguistics**\n",
    "\n",
    "<ul>\n",
    "  <li>Word Frequency Analysis </li>\n",
    "  <li>Concordance</li>\n",
    "  <li>Collocation</li>\n",
    "  <li>Keyness</li>\n",
    "</ul>\n",
    "\n",
    "\n",
    "**Key terms**\n",
    "\n",
    "<ul>\n",
    "  <li>Types: Number of distinct words in a corpus (size of the voabulary)</li>\n",
    "  <li>Tokens: Number of running words</li>\n",
    "</ul>\n",
    "<br>\n",
    "\n",
    "\n",
    "\"*They picnicked by the wadi, then lay back on the sand and looked at the stars*\"\n",
    "\n",
    "- 16 word tokens, 14 word types (not counting punctuation)\n",
    "\n"
   ]
  },
  {
   "cell_type": "markdown",
   "metadata": {},
   "source": [
    "### 6.3 Corpus Linguistics - Method 1: Word Frequency Analysis"
   ]
  },
  {
   "attachments": {
    "graphfrequency.png": {
     "image/png": "[encoded data removed]"
    },
    "tally%20freq.PNG": {
     "image/png": "[encoded data removed]"
    }
   },
   "cell_type": "markdown",
   "metadata": {},
   "source": [
    "Word Frequency: A simple tallying of the number of instances of something that occurs in a corpus\n",
    "\n",
    "\n",
    "![tally%20freq.PNG](attachment:tally%20freq.PNG)\n",
    "\n",
    "\n",
    "**Zipf’s Law**\n",
    "\n",
    "Zipf noticed that the second most common word ‘*of*’ occurs about half as often as the most common word ‘*the*’. While the third most common word ‘*to*’ occurs about a third as often as ‘*the*’. And so on.\n",
    "\n",
    "Generally, the frequency of the *nth* most common word is about *1/n* times the frequency of the most common word.\n",
    "So a graph of the frequencies of the most common words looks roughly like this:\n",
    "\n",
    "\n",
    "![graphfrequency.png](attachment:graphfrequency.png)\n",
    "\n",
    "\n",
    "Language after language, corpus after corpus, linguistic type after linguistic type, . . . we observe the same “*few giants, many dwarves*” pattern.\n",
    "<br>\n",
    "\n",
    "**Normalised Frequency**\n",
    "\n",
    "The most basic statistical measure is a frequency count, as shown above. \n",
    "\n",
    "There are 1,103 examples of the word *Lancaster* in the written section of the BNC.\n",
    "\n",
    "This maybe expressed as a percentage of the whole corpus; the BNC’s written section contains **87,903,571** words of running text, meaning that the word *Lancaster* represents 0.013% of the total data in the written section of the corpus. \n",
    "\n",
    "The percentage is just another way of looking at the count 1,103 in context, to try to make sense of it **relative to the totality of the written corpus**.\n",
    "\n",
    "Sometimes, as is the case here, the percentage may not convey meaningfully the frequency of use of the word, so we might instead produce a **normalised frequency (or relative frequency)**, which answers the question \"**how often might we assume we will see the word per x words of running text?**\"\n",
    "\n",
    "Normalised frequencies are usually given **per thousand words or per million words.**\n",
    "\n",
    "(McEnery and Hardie, 2012)\n",
    "\n",
    "\n",
    "\n",
    "$$Normalized~freq = (\\frac{raw~freq}{token~number}) \\times common~base$$\n"
   ]
  },
  {
   "cell_type": "markdown",
   "metadata": {},
   "source": [
    "Import Data (Spam/Ham Dataset) https://archive.ics.uci.edu/ml/datasets/sms+spam+collection\n",
    "\n",
    "The SMS Spam Collection is a set of SMS tagged messages that have been collected for SMS Spam research.\n",
    "\n",
    "It contains one set of SMS messages in English of 5,574 messages, tagged according being ham (legitimate) or spam."
   ]
  },
  {
   "cell_type": "code",
   "execution_count": null,
   "metadata": {
    "collapsed": true
   },
   "outputs": [],
   "source": [
    "spamham_data = pd.read_csv(\"../data/SMSSpamCollection.csv\", encoding='iso-8859-1') "
   ]
  },
  {
   "cell_type": "code",
   "execution_count": null,
   "metadata": {},
   "outputs": [],
   "source": [
    "spamham_data.head()"
   ]
  },
  {
   "cell_type": "code",
   "execution_count": null,
   "metadata": {},
   "outputs": [],
   "source": [
    "spamham_data[\"Email\"].value_counts().plot(kind='pie',\n",
    "                                          explode=[0, 0.1],\n",
    "                                          figsize=(6,6),\n",
    "                                          autopct='%1.1f%%',\n",
    "                                          shadow=True)\n",
    "plt.ylabel(\"Spam vs Ham\")\n",
    "plt.legend([\"Ham\", \"Spam\"])\n",
    "plt.show()"
   ]
  },
  {
   "cell_type": "code",
   "execution_count": null,
   "metadata": {
    "collapsed": true
   },
   "outputs": [],
   "source": [
    "# Some utility preprocessing functions for use later.\n",
    "\n",
    "def remove_punct(ptext):\n",
    "    \n",
    "    for each_punctuation_mark in string.punctuation:\n",
    "        ptext = ptext.replace(each_punctuation_mark, \"\")\n",
    "        \n",
    "    return ptext\n",
    "\n",
    "\n",
    "stop_words = set(stopwords.words('english'))\n",
    "\n",
    "\n",
    "def clean_stopwords(token):\n",
    "    return [item for item in token if item not in stop_words]\n",
    "\n",
    "\n",
    "def return_tostring(token):\n",
    "    return \" \".join (token)\n"
   ]
  },
  {
   "cell_type": "code",
   "execution_count": null,
   "metadata": {},
   "outputs": [],
   "source": [
    "spamham_data[\"Description\"]"
   ]
  },
  {
   "cell_type": "code",
   "execution_count": null,
   "metadata": {},
   "outputs": [],
   "source": [
    "# Get tokens in description column\n",
    "results = Counter()\n",
    "spamham_data[\"Description\"].str.lower().str.split().apply(results.update)\n",
    "print(\"Tokens:\", sum(dict(results).values()))"
   ]
  },
  {
   "cell_type": "code",
   "execution_count": null,
   "metadata": {
    "collapsed": true
   },
   "outputs": [],
   "source": [
    "# Lowercase the Description data\n",
    "spamham_data[\"Description\"] = spamham_data[\"Description\"].str.lower()"
   ]
  },
  {
   "cell_type": "code",
   "execution_count": null,
   "metadata": {
    "collapsed": true
   },
   "outputs": [],
   "source": [
    "# Remove punctuation\n",
    "spamham_data['Description'] = spamham_data['Description'].apply(remove_punct)"
   ]
  },
  {
   "cell_type": "code",
   "execution_count": null,
   "metadata": {
    "collapsed": true
   },
   "outputs": [],
   "source": [
    "# Tokenise in a basic mannder\n",
    "spamham_data[\"Description\"] = spamham_data[\"Description\"].str.split(\" \")"
   ]
  },
  {
   "cell_type": "code",
   "execution_count": null,
   "metadata": {
    "collapsed": true
   },
   "outputs": [],
   "source": [
    "# Remove stopwords\n",
    "spamham_data['Description'] = spamham_data['Description'].apply(clean_stopwords)"
   ]
  },
  {
   "cell_type": "code",
   "execution_count": null,
   "metadata": {},
   "outputs": [],
   "source": [
    "spamham_data['Description']"
   ]
  },
  {
   "cell_type": "code",
   "execution_count": null,
   "metadata": {
    "collapsed": true
   },
   "outputs": [],
   "source": [
    "#word count\n",
    "alltext = []\n",
    "for item in spamham_data['Description']:\n",
    "    item = list(filter(None, item))\n",
    "    alltext.extend(item)"
   ]
  },
  {
   "cell_type": "code",
   "execution_count": null,
   "metadata": {},
   "outputs": [],
   "source": [
    "counter = collections.Counter(alltext)\n",
    "print(counter)"
   ]
  },
  {
   "cell_type": "code",
   "execution_count": null,
   "metadata": {
    "collapsed": true
   },
   "outputs": [],
   "source": [
    "sort_order = sorted(dict(counter).items(), key=lambda x: x[1], reverse=True)\n",
    "token = []\n",
    "count = []\n",
    "for i in sort_order:\n",
    "    token.append(i[0])\n",
    "    count.append(i[1])"
   ]
  },
  {
   "cell_type": "code",
   "execution_count": null,
   "metadata": {
    "collapsed": true
   },
   "outputs": [],
   "source": [
    "def plotall(px, py):\n",
    "    \n",
    "    plt.xticks(fontsize=12, rotation=90)\n",
    "    plt.ylabel('Frequency')\n",
    "    plt.plot(px, py)\n",
    "    plt.show()"
   ]
  },
  {
   "cell_type": "code",
   "execution_count": null,
   "metadata": {},
   "outputs": [],
   "source": [
    "plotall(token[:10], count[:10])"
   ]
  },
  {
   "cell_type": "code",
   "execution_count": null,
   "metadata": {
    "collapsed": true
   },
   "outputs": [],
   "source": [
    "# Return lists to strings\n",
    "spamham_data['Description'] = spamham_data['Description'].apply(return_tostring)"
   ]
  },
  {
   "cell_type": "code",
   "execution_count": null,
   "metadata": {},
   "outputs": [],
   "source": [
    "spamham_data['Description'].head()"
   ]
  },
  {
   "cell_type": "markdown",
   "metadata": {},
   "source": [
    "We can make a wordcloud for the description column\n",
    "\n",
    "The description column is concatenated (joined) into one big string called text first."
   ]
  },
  {
   "cell_type": "code",
   "execution_count": null,
   "metadata": {},
   "outputs": [],
   "source": [
    "# Join all the text data\n",
    "text = \" \".join(spamham_data['Description'])\n",
    "\n",
    "# The text string is then passed to the wordcloud function:\n",
    "wordcloud = WordCloud(max_font_size=50, \n",
    "                      max_words=100, \n",
    "                      background_color=\"white\").generate(text)\n",
    "\n",
    "# Display the generated image:\n",
    "plt.imshow(wordcloud, interpolation='bilinear')\n",
    "plt.axis(\"off\")\n",
    "plt.show()"
   ]
  },
  {
   "cell_type": "code",
   "execution_count": null,
   "metadata": {
    "collapsed": true
   },
   "outputs": [],
   "source": [
    "# Sort dictionary items in descending order by value\n",
    "sort_orders = sorted(dict(results).items(), \n",
    "                     key=lambda x: x[1], \n",
    "                     reverse=True)"
   ]
  },
  {
   "cell_type": "code",
   "execution_count": null,
   "metadata": {
    "collapsed": true
   },
   "outputs": [],
   "source": [
    "# Get the first 20 items\n",
    "sort_orders = sort_orders[0:50]\n",
    "\n",
    "# Seperate out word types from counts\n",
    "word_type_list = [item[0] for item in sort_orders]\n",
    "word_type_count_list = [item[1] for item in sort_orders]"
   ]
  },
  {
   "cell_type": "code",
   "execution_count": null,
   "metadata": {},
   "outputs": [],
   "source": [
    "# Show zipf's law in action\n",
    "plotall(word_type_list, word_type_count_list)"
   ]
  },
  {
   "cell_type": "code",
   "execution_count": null,
   "metadata": {},
   "outputs": [],
   "source": [
    "# Get the word types\n",
    "unique_words = set()\n",
    "spamham_data[\"Description\"].str.lower().str.split().apply(unique_words.update)\n",
    "print(\"Word Types:\", len(unique_words))"
   ]
  },
  {
   "cell_type": "code",
   "execution_count": null,
   "metadata": {},
   "outputs": [],
   "source": [
    "spamham_data.head()"
   ]
  },
  {
   "cell_type": "code",
   "execution_count": null,
   "metadata": {
    "collapsed": true
   },
   "outputs": [],
   "source": [
    "# to retrieve ham emails, you can begin like ths.\n",
    "\n",
    "ham = spamham_data.loc[spamham_data['Email']=='ham']"
   ]
  },
  {
   "cell_type": "code",
   "execution_count": null,
   "metadata": {},
   "outputs": [],
   "source": [
    "ham.head()"
   ]
  },
  {
   "cell_type": "code",
   "execution_count": null,
   "metadata": {
    "collapsed": true
   },
   "outputs": [],
   "source": [
    "# Write your code below\n"
   ]
  },
  {
   "cell_type": "markdown",
   "metadata": {},
   "source": [
    "**Measure Lexical Diversity**\n",
    "\n",
    "<br>\n",
    "\n",
    "\n",
    "Lexical Diversity is “**the range of different words used in a text, with a greater range indicating a higher diversity**” \n",
    "A greater range indicates a higher diversity.\n",
    "\n",
    "Imagine a text which keeps repeating the same few words again and again – for example: *‘manager‘, ‘thinks‘ and ‘finishes‘*.\n",
    "\n",
    "Compare this with a text which avoids that sort of repetition, and instead uses different vocabulary for the same ideas, *‘manager, boss, chief, head, leader‘, ‘thinks, deliberates, ponders, reflects‘.*\n",
    "\n",
    "The second text is likely to be more complex and more difficult to model. \n",
    "\n",
    "It is said to have more **‘Lexical diversity’** than the first text, and this is why Lexical Diversity (LD) is thought to be an important measure of text difficulty.\n",
    "\n",
    "**Type Token Ratio:** the number of different words (types) / all words produced (tokens)\n",
    "\n",
    "$$TTR = \\frac{\\# ~types}{\\# ~tokens}$$"
   ]
  },
  {
   "cell_type": "markdown",
   "metadata": {},
   "source": [
    "It maybe useful to know difference in LD between ham and spam text"
   ]
  },
  {
   "cell_type": "code",
   "execution_count": null,
   "metadata": {
    "collapsed": true
   },
   "outputs": [],
   "source": [
    "# Join all the data into one string to analyse the whole corpus\n",
    "all_ham_text = \" \".join(list(ham['Description']))"
   ]
  },
  {
   "cell_type": "code",
   "execution_count": null,
   "metadata": {},
   "outputs": [],
   "source": [
    "all_ham_text"
   ]
  },
  {
   "cell_type": "code",
   "execution_count": null,
   "metadata": {},
   "outputs": [],
   "source": [
    "# LD for ham\n",
    "total_token_ham = all_ham_text.split(\" \")\n",
    "total_wordtype_ham = set(total_token_ham)\n",
    "\n",
    "print(\"Lexical Diversity for ham:\", len(total_wordtype_ham)/len(total_token_ham ))"
   ]
  },
  {
   "cell_type": "markdown",
   "metadata": {},
   "source": [
    "**Measure Lexical Dispersion**\n",
    "\n",
    "<br>\n",
    "\n",
    "The location of a word can be determined. It can be established for example how many words from the beginning it appears. \n",
    "\n",
    "This positional information can be displayed using a **dispersion plot**. Each stripe represents an instance of a word, and each row represents the entire text."
   ]
  },
  {
   "cell_type": "code",
   "execution_count": null,
   "metadata": {
    "collapsed": true
   },
   "outputs": [],
   "source": [
    "# Dispersion\n",
    "# Tokenise the data\n",
    "ham_text_tokens = nltk.word_tokenize(all_ham_text) "
   ]
  },
  {
   "cell_type": "code",
   "execution_count": null,
   "metadata": {},
   "outputs": [],
   "source": [
    "ham_text_object = nltk.Text(ham_text_tokens) #turning it into nltk.Text object to be able to use .condordance, .similar etc\n",
    "ham_text_object.dispersion_plot([\"call\", \"service\", \"text\"])"
   ]
  },
  {
   "cell_type": "markdown",
   "metadata": {},
   "source": [
    "### 6.4 Corpus Linguistics - Method 2: Concordance\n",
    "\n",
    "The frequency count of types that we did above is useful to a certain extent.\n",
    "\n",
    "In order to see what the frequency is all about we need to look at the types in **context**, that is, we need to make a concordance of the type in question. Making a concordance will put the word in the middle and show you what the surrounding text looks like. \n",
    "\n",
    "Also known as **keyword in context or KWIC**. "
   ]
  },
  {
   "cell_type": "code",
   "execution_count": null,
   "metadata": {},
   "outputs": [],
   "source": [
    "ham_text_object.concordance('later')"
   ]
  },
  {
   "cell_type": "markdown",
   "metadata": {},
   "source": [
    "### 6.5 Corpus Linguistics - Method 3: Collocation"
   ]
  },
  {
   "cell_type": "markdown",
   "metadata": {},
   "source": [
    "Words tend to appear in typical, recurrent combinations:\n",
    "\n",
    "\n",
    "<ul>\n",
    "  <li>day and night</li>\n",
    "  <li>ring and bell </li>\n",
    "  <li>milk and cow</li>\n",
    "  <li>kick and bucket</li>\n",
    "  <li>brush and teeth </li>\n",
    "  <li>milk and cow</li>\n",
    "</ul>\n",
    "\n",
    "The above are known as **collocations**\n",
    "\n",
    "The meaning of a word is in part determined by its characteristic.\n",
    "\n",
    "Empirically, collocations are words that have a tendency to occur near each other. \n",
    "\n",
    "Words do not randomly appear together. Some of those co-occurrence are extremely consistent and bear meaning with them. \n",
    "\n",
    "Collocation are important for us to look at when we study language, and it’s really the mass observation of co-occurrence in corpus data that allows us to begin to measure the extent to which words are coming together in order to form meaning.\n"
   ]
  },
  {
   "cell_type": "code",
   "execution_count": null,
   "metadata": {
    "collapsed": true
   },
   "outputs": [],
   "source": [
    "\n",
    "def generate_collocations(tokens):\n",
    "    '''\n",
    "    Given list of tokens, return collocations.\n",
    "    '''\n",
    "    ignored_words = nltk.corpus.stopwords.words('english')\n",
    "    \n",
    "    bigramFinder = nltk.collocations.BigramCollocationFinder.from_words(tokens)\n",
    "    bigramFinder.apply_word_filter(lambda word: len(word) < 3 or word.lower() in ignored_words)\n",
    "    \n",
    "    bigram_freq = bigramFinder.ngram_fd.items()\n",
    "    \n",
    "    bigramFreqTable = (pd.DataFrame(list(bigram_freq), columns=['bigram','freq'])\n",
    "                       .sort_values(by='freq', ascending=False))\n",
    "   \n",
    "    return bigramFreqTable\n"
   ]
  },
  {
   "cell_type": "code",
   "execution_count": null,
   "metadata": {},
   "outputs": [],
   "source": [
    "generate_collocations(ham_text_tokens).head(50)"
   ]
  },
  {
   "cell_type": "markdown",
   "metadata": {},
   "source": [
    "### 6.6 Corpus Linguistics - Method 4: Keyness\n",
    "\n",
    "Keywords are those whose frequency is unusually high in comparison with some norm.\n",
    "\n",
    "In order to identify significant differences between 2 corpora or 2 parts of a corpus , we often use a statistical measure called **keyness**.\n",
    "\n",
    "Imagine two highly simplified corpora. Each contains only 3 different words *cat, dog, and cow* and has a total of 100 words. \n",
    "\n",
    "The frequency counts are as follows:\n",
    "\n",
    "**Corpus A: cat 52; dog 17; cow 31** \n",
    "\n",
    "**Corpus B: cat 19; dog 40; cow 31** \n",
    "\n",
    "*Cat* and *dog* would be key, as they are distributed differently across the corpora, but cow would not as its distribution is the same. \n",
    "\n",
    "Put another way, cat and dog are distinguishing features of the corpora; cow is not.\n",
    "\n",
    "Normally, we use a concordancing program like **AntConc or WordSmith** to calculate keyness for us.\n",
    "\n",
    "While we can let these programs do the mathematical heavy lifting, it’s important that we have a basic understanding of what these calculations are and what exactly they tell us.\n",
    "\n",
    "There are 2 common methods for calculating distributional differences: a chi-squared test ( or χ² test) and log-likelihood."
   ]
  },
  {
   "cell_type": "markdown",
   "metadata": {},
   "source": [
    "##### Exercises\n",
    "<br>\n",
    "\n",
    "<ol>\n",
    "  <li>Import the Hep Dataset and perform EDA as outlined below to the text column.</li>\n",
    "    \n",
    "    \n",
    "  <li>              Plot the top 10 highest frequency words. </li>\n",
    "  <li>              Calculate the normalised frequency for top 10 most frequently occurring words. </li>\n",
    "  <li>             Create a word cloud for the top 100 words (in terms of frequency) </li>\n",
    "  <li>              Calculate the lexical diversity for the text  </li>\n",
    "  <li>              Show keyword in context for the top 10 words. </li>\n",
    "  <li>              Generate collocations </li>\n",
    "\n",
    "     \n",
    "</ol>\n",
    "\n",
    "\n"
   ]
  },
  {
   "cell_type": "code",
   "execution_count": null,
   "metadata": {
    "collapsed": true
   },
   "outputs": [],
   "source": []
  },
  {
   "cell_type": "markdown",
   "metadata": {},
   "source": [
    "#### References\n",
    "\n",
    "\n",
    "\n",
    "https://www.cambridge.org/core/books/corpus-linguistics/16CC177EA9B6007B3187C64326F818AB"
   ]
  },
  {
   "cell_type": "code",
   "execution_count": null,
   "metadata": {
    "collapsed": true
   },
   "outputs": [],
   "source": []
  }
 ],
 "metadata": {
  "kernelspec": {
   "display_name": "Python 3",
   "language": "python",
   "name": "python3"
  },
  "language_info": {
   "codemirror_mode": {
    "name": "ipython",
    "version": 3
   },
   "file_extension": ".py",
   "mimetype": "text/x-python",
   "name": "python",
   "nbconvert_exporter": "python",
   "pygments_lexer": "ipython3",
   "version": "3.6.1"
  }
 },
 "nbformat": 4,
 "nbformat_minor": 4
}
